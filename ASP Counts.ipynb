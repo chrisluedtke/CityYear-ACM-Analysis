{
 "cells": [
  {
   "cell_type": "code",
   "execution_count": null,
   "metadata": {},
   "outputs": [],
   "source": [
    "import os\n",
    "from simple_cysh import * # includes pandas as pd"
   ]
  },
  {
   "cell_type": "code",
   "execution_count": null,
   "metadata": {},
   "outputs": [],
   "source": [
    "program_df = get_cysh_df('Program__c', ['Id', 'Name'], \n",
    "                         rename_id=True)\n",
    "program_df.rename(columns={'Name': 'Program'},inplace=True)\n",
    "\n",
    "# get sections, merge in program name, filter for sections of interest\n",
    "section_df = get_cysh_df('Section__c', ['Id', 'School__c', 'Program__c', 'In_After_School__c'], \n",
    "                         rename_id=True, \n",
    "#                          where=\"Active__c = True\"\n",
    "                        )\n",
    "section_df = section_df.merge(program_df, on='Program__c', how='left')\n",
    "\n",
    "section_df = section_df.loc[section_df['Program'].isin([\n",
    "#     'Coaching: Attendance', \n",
    "#     'Tutoring: Literacy', \n",
    "#     'Tutoring: Math',\n",
    "#     'SEL Check In Check Out',\n",
    "    'Enrichment',\n",
    "])]\n",
    "\n",
    "stu_sec_df = get_cysh_df('Student_Section__c', ['Id', 'Section__c', 'Student__c', 'Student_Id__c', \n",
    "                                                'Student_Name__c', 'Student_Grade__c', \n",
    "                                                'Amount_of_Time__c', 'Intervention_Enrollment_Start_Date__c', \n",
    "                                                'Enrollment_End_Date__c', 'Section_Exit_Reason__c'],\n",
    "                         rename_id=True, \n",
    "#                          where=\"Active__c = True\"\n",
    "                        )\n",
    "stu_sec_df = stu_sec_df.loc[~stu_sec_df['Student_Name__c'].str.contains('DELETE')]\n",
    "stu_lastnames = get_cysh_df('Student__c', ['Id', 'Student_Last_Name__c'], rename_id=True)\n",
    "stu_sec_df = stu_sec_df.merge(stu_lastnames, how='left', on='Student__c')\n",
    "\n",
    "school_df = get_cysh_df('Account', ['Id', 'Name'])\n",
    "school_df.rename(columns={'Id':'School__c', 'Name':'School'}, inplace=True)"
   ]
  },
  {
   "cell_type": "code",
   "execution_count": null,
   "metadata": {},
   "outputs": [],
   "source": [
    "# merges\n",
    "df = section_df.merge(school_df, how='left', on='School__c')\n",
    "df = df.merge(stu_sec_df, on='Section__c')\n",
    "\n",
    "asp_counts = df.groupby('School')['Student__c'].nunique().reset_index()"
   ]
  },
  {
   "cell_type": "code",
   "execution_count": null,
   "metadata": {},
   "outputs": [],
   "source": [
    "asp_counts.sort_values('Student__c')"
   ]
  }
 ],
 "metadata": {
  "kernelspec": {
   "display_name": "Python 3",
   "language": "python",
   "name": "python3"
  },
  "language_info": {
   "codemirror_mode": {
    "name": "ipython",
    "version": 3
   },
   "file_extension": ".py",
   "mimetype": "text/x-python",
   "name": "python",
   "nbconvert_exporter": "python",
   "pygments_lexer": "ipython3",
   "version": "3.6.8"
  }
 },
 "nbformat": 4,
 "nbformat_minor": 2
}
