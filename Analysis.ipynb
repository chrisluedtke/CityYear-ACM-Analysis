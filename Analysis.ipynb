{
 "cells": [
  {
   "cell_type": "code",
   "execution_count": null,
   "metadata": {},
   "outputs": [],
   "source": [
    "import matplotlib as mpl\n",
    "import matplotlib.pyplot as plt\n",
    "import os\n",
    "import pandas as pd\n",
    "import seaborn as sns\n",
    "%matplotlib inline"
   ]
  },
  {
   "cell_type": "code",
   "execution_count": null,
   "metadata": {},
   "outputs": [],
   "source": [
    "os.chdir(r'Z:\\ChiPrivate\\Chicago Reports and Evaluation\\SY18\\Eval Management\\ACM_analysis')"
   ]
  },
  {
   "cell_type": "code",
   "execution_count": null,
   "metadata": {},
   "outputs": [],
   "source": [
    "heatmaps_df = pd.read_csv('OC_clean.csv')\n",
    "tut_time_df = pd.read_csv('time_on_task_2017-12-11.csv')\n",
    "assmt_df = pd.read_csv('assessment_growth.csv')\n",
    "survey_df = pd.read_csv('ACM_Q2_survey.csv')"
   ]
  },
  {
   "cell_type": "code",
   "execution_count": null,
   "metadata": {},
   "outputs": [],
   "source": [
    "assmt_df['Assessment Type'] = assmt_df['Assessment Type'].str.replace('NWEA - ELA', 'Tutoring: Literacy')\n",
    "assmt_df['Assessment Type'] = assmt_df['Assessment Type'].str.replace('NWEA - MATH', 'Tutoring: Math')\n",
    "assmt_df['Key'] = assmt_df['Student__c'] + assmt_df['Assessment Type']\n",
    "\n",
    "tut_time_df['Key'] = tut_time_df['Student__c'] + tut_time_df['Program__c_Name']\n",
    "\n",
    "df = assmt_df[['Key', 'Assessment Type', 'Growth_v_Target']].merge(tut_time_df, how='inner', on='Key')\n",
    "\n",
    "df = df.loc[~df['Growth_v_Target'].isnull()\n",
    "            &~df['Amount_of_Time__c_YTD'].isnull()]\n",
    "\n",
    "df['Hit_Target?'] = 0\n",
    "df['Hit_Target?'].loc[df['Growth_v_Target']>=0] = 1\n",
    "\n",
    "mean_df = df.groupby('Staff__c').agg(['mean', 'std'])\n",
    "\n",
    "mean_df.columns = [' '.join(col).strip() for col in mean_df.columns.values]\n",
    "\n",
    "mean_df.reset_index(inplace=True)\n",
    "df = mean_df.merge(survey_df, on='Staff__c')"
   ]
  },
  {
   "cell_type": "code",
   "execution_count": null,
   "metadata": {},
   "outputs": [],
   "source": [
    "from sklearn_pandas import DataFrameMapper\n",
    "import numpy as np\n",
    "import sklearn.preprocessing, sklearn.decomposition, sklearn.linear_model, sklearn.pipeline, sklearn.metrics\n",
    "from sklearn.feature_extraction.text import CountVectorizer\n",
    "from sklearn.feature_selection import SelectKBest, chi2"
   ]
  },
  {
   "cell_type": "code",
   "execution_count": null,
   "metadata": {},
   "outputs": [],
   "source": [
    "data = df.copy()"
   ]
  },
  {
   "cell_type": "markdown",
   "metadata": {},
   "source": [
    "### TODO:\n",
    "1. decide what attributes I want to pass in\n",
    "    * dimensionality reduction? represent the gist of a survey set with less data\n",
    "    * all of them? or at least the nominal ones? would need to clean all of them, but otherwise not unreasonable\n",
    "    * what's the role of common sense?\n",
    "* Decide what scoring method to best select attributes\n",
    "* Create decision tree\n",
    "* Test other measures of ACM effectiveness"
   ]
  },
  {
   "cell_type": "code",
   "execution_count": null,
   "metadata": {},
   "outputs": [],
   "source": [
    "mapper = DataFrameMapper([('NPS', sklearn.preprocessing.LabelBinarizer()),\n",
    "                          ('Growth_v_Target mean', None)], df_out=True)"
   ]
  },
  {
   "cell_type": "code",
   "execution_count": null,
   "metadata": {},
   "outputs": [],
   "source": [
    "mapper"
   ]
  },
  {
   "cell_type": "code",
   "execution_count": null,
   "metadata": {},
   "outputs": [],
   "source": [
    "mapper_fs = DataFrameMapper([(['children','salary'], SelectKBest(chi2, k=1))])\n",
    "mapper_fs.fit_transform(data[['children','salary']], data['Growth_v_Target mean'])"
   ]
  },
  {
   "cell_type": "code",
   "execution_count": null,
   "metadata": {},
   "outputs": [],
   "source": [
    "from sklearn import tree"
   ]
  },
  {
   "cell_type": "code",
   "execution_count": null,
   "metadata": {},
   "outputs": [],
   "source": [
    "X = [[0, 0], [1, 1]]\n",
    "Y = [0, 1]\n",
    "clf = tree.DecisionTreeClassifier()\n",
    "clf = clf.fit(X, Y)"
   ]
  },
  {
   "cell_type": "code",
   "execution_count": null,
   "metadata": {},
   "outputs": [],
   "source": []
  },
  {
   "cell_type": "code",
   "execution_count": null,
   "metadata": {},
   "outputs": [],
   "source": [
    "sns.jointplot(x=(\"Hit_Target?\", \"mean\"), y=(\"Amount_of_Time__c_YTD\", \"mean\"), data=mean_df, kind=\"kde\")"
   ]
  },
  {
   "cell_type": "code",
   "execution_count": null,
   "metadata": {},
   "outputs": [],
   "source": [
    "sns.jointplot(x=(\"Growth_v_Target\", \"mean\"), y=(\"Amount_of_Time__c_YTD\", \"mean\"), data=mean_df, kind=\"kde\", xlim=(-20, 20), ylim=(0, 1200))"
   ]
  },
  {
   "cell_type": "code",
   "execution_count": null,
   "metadata": {},
   "outputs": [],
   "source": [
    "mean_df[(\"Growth_v_Target\", \"mean\")].hist()"
   ]
  },
  {
   "cell_type": "code",
   "execution_count": null,
   "metadata": {
    "scrolled": true
   },
   "outputs": [],
   "source": [
    "mean_df[(\"Hit_Target?\", \"mean\")].hist()"
   ]
  },
  {
   "cell_type": "markdown",
   "metadata": {},
   "source": [
    "## Analysis Questions\n",
    "* do SYACMs have greater impact? do they have greater impact when working with the same students?"
   ]
  }
 ],
 "metadata": {
  "kernelspec": {
   "display_name": "Python 3",
   "language": "python",
   "name": "python3"
  },
  "language_info": {
   "codemirror_mode": {
    "name": "ipython",
    "version": 3
   },
   "file_extension": ".py",
   "mimetype": "text/x-python",
   "name": "python",
   "nbconvert_exporter": "python",
   "pygments_lexer": "ipython3",
   "version": "3.6.4"
  }
 },
 "nbformat": 4,
 "nbformat_minor": 2
}
