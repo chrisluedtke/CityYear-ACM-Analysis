{
 "cells": [
  {
   "cell_type": "code",
   "execution_count": null,
   "metadata": {},
   "outputs": [],
   "source": [
    "from fuzzywuzzy import fuzz, process\n",
    "from simple_cysh import * # includes pandas as pd\n",
    "import os\n",
    "os.chdir(r'Z:\\ChiPrivate\\Chicago Reports and Evaluation\\SY18\\Eval Management\\ACM_analysis')"
   ]
  },
  {
   "cell_type": "code",
   "execution_count": null,
   "metadata": {},
   "outputs": [],
   "source": [
    "# reference of commutes calculated at start of year\n",
    "commutes_df = pd.read_csv('ACM_commutes_projected.csv', encoding='windows-1252')\n",
    "# this table already contains matched-in commute info for some ACM names, which were cleaned manually in Excel\n",
    "commutes_matched_df = pd.read_csv('ACM_commutes_projected_Q2survmatches.csv')\n",
    "placements_df = pd.read_excel('SY18 FINAL Team Placements.xlsx')"
   ]
  },
  {
   "cell_type": "code",
   "execution_count": null,
   "metadata": {},
   "outputs": [],
   "source": [
    "# load from Salesforce\n",
    "staff_df = get_cysh_df('Staff__c', ['Id', 'Name', 'legacy_key2__c', 'Organization__c', 'Role__c'], \"Site__c = 'Chicago'\", rename_id=True)\n",
    "staff_df.rename(columns={'Organization__c':'School__c', 'Role__c':'Title'}, inplace=True)\n",
    "titles = ['Senior Corps Team Leader', 'Team Leader', 'Corps Member', 'Second Year Corps Member']\n",
    "staff_df = staff_df.loc[staff_df['Title'].isin(titles)]\n",
    "school_df = get_cysh_df('Account', ['Id', 'Name'])\n",
    "school_df.rename(columns={'Id':'School__c', 'Name':'School_Name'}, inplace=True)\n",
    "\n",
    "# Merge\n",
    "acm_df = staff_df.merge(school_df, on='School__c', how='left')\n",
    "acm_df = acm_df[['Staff__c', 'Name', 'Title', 'School_Name']]"
   ]
  },
  {
   "cell_type": "code",
   "execution_count": null,
   "metadata": {},
   "outputs": [],
   "source": [
    "# Check that my match column is good, print non-matched rows\n",
    "len(placements_df.loc[~placements_df['Full.Name (CYSH Staff Object)'].isin(acm_df['Name'])])"
   ]
  },
  {
   "cell_type": "code",
   "execution_count": null,
   "metadata": {},
   "outputs": [],
   "source": [
    "acm_df = acm_df.merge(placements_df[['Full.Name (CYSH Staff Object)', 'Full.Name']], left_on='Name', right_on='Full.Name (CYSH Staff Object)', how='left')\n",
    "del acm_df['Full.Name (CYSH Staff Object)']"
   ]
  },
  {
   "cell_type": "code",
   "execution_count": null,
   "metadata": {},
   "outputs": [],
   "source": [
    "acm_df['Key'] = acm_df['Full.Name'] + \"_\" + acm_df['School_Name']\n",
    "commutes_df['Key'] = commutes_df['Full.Name'] + \"_\" + commutes_df['School']\n",
    "acm_df = acm_df.merge(commutes_df[['Key', 'Commute.Time']], on='Key', how='left')"
   ]
  },
  {
   "cell_type": "code",
   "execution_count": null,
   "metadata": {
    "scrolled": true
   },
   "outputs": [],
   "source": [
    "print(len(placements_df.loc[placements_df['Full.Name'].isin(commutes_df['Full.Name'])]))\n",
    "print(f\"{len(acm_df.loc[~acm_df['Commute.Time'].isnull()])} ACMs with commute calc\")"
   ]
  },
  {
   "cell_type": "code",
   "execution_count": null,
   "metadata": {},
   "outputs": [],
   "source": [
    "print(f\"{len(acm_df.loc[~acm_df.Title.str.contains('Senior Corps Team Leader') & acm_df['Commute.Time'].isnull() & ~acm_df['Full.Name'].isnull()])} ACMs have no commute time calc\")"
   ]
  },
  {
   "cell_type": "code",
   "execution_count": null,
   "metadata": {},
   "outputs": [],
   "source": [
    "acm_df[['Staff__c', 'Commute.Time']].to_csv('commutes_cleaned.csv', index=False)"
   ]
  }
 ],
 "metadata": {
  "kernelspec": {
   "display_name": "Python 3",
   "language": "python",
   "name": "python3"
  },
  "language_info": {
   "codemirror_mode": {
    "name": "ipython",
    "version": 3
   },
   "file_extension": ".py",
   "mimetype": "text/x-python",
   "name": "python",
   "nbconvert_exporter": "python",
   "pygments_lexer": "ipython3",
   "version": "3.6.4"
  }
 },
 "nbformat": 4,
 "nbformat_minor": 2
}
