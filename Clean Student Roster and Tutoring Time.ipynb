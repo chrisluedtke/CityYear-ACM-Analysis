{
 "cells": [
  {
   "cell_type": "code",
   "execution_count": null,
   "metadata": {},
   "outputs": [],
   "source": [
    "import os\n",
    "from simple_cysh import * # includes pandas as pd\n",
    "os.chdir(r'Z:\\ChiPrivate\\Chicago Reports and Evaluation\\SY18\\Eval Management\\ACM_analysis')"
   ]
  },
  {
   "cell_type": "code",
   "execution_count": null,
   "metadata": {},
   "outputs": [],
   "source": [
    "# Fill in details on each section, ensure no duplicates (one staff per section)\n",
    "section_df = get_cysh_df('Section__c', ['Id', 'Name', 'School__c', 'Program__c', 'In_After_School__c', 'Intervention_Primary_Staff__c'], rename_id=True)\n",
    "section_df.rename(columns={'Intervention_Primary_Staff__c':'Staff__c'}, inplace=True)\n",
    "program_df = get_cysh_df('Program__c', ['Id', 'Name'], rename_id=True, rename_name=True)\n",
    "staff_df = get_cysh_df('Staff__c', ['Id', 'Name', 'Role__c'], rename_id=True, rename_name=True)"
   ]
  },
  {
   "cell_type": "code",
   "execution_count": null,
   "metadata": {},
   "outputs": [],
   "source": [
    "# add program type to section__c\n",
    "df = section_df.merge(program_df, how='left', on='Program__c')\n",
    "# add staff 'Name' and 'Role__c' to section__c\n",
    "df = df.merge(staff_df, how='left', on='Staff__c')\n",
    "# filter\n",
    "df = df.loc[~df['Program__c_Name'].isnull()]\n",
    "df = df.loc[df['Program__c_Name'].str.contains('Tutoring')\n",
    "            & (df['In_After_School__c']=='In School')]"
   ]
  },
  {
   "cell_type": "code",
   "execution_count": null,
   "metadata": {},
   "outputs": [],
   "source": [
    "# aggregate student ToT by program\n",
    "student_section_df = get_cysh_df('Student_Section__c', ['Id', 'Section__c', 'Student__c', 'Student_Id__c'], rename_id=True)\n",
    "ISR_df = get_cysh_df('Intervention_Session_Result__c', ['CreatedDate', 'Intervention_Session_Date__c',\n",
    "                                                        'Amount_of_Time__c', 'Primary_Skill__c',\n",
    "                                                        'Student_Section__c', 'Intervention_Session__c',\n",
    "                                                        'Section_Name__c', 'Program__c', 'Program_Name__c'])\n",
    "\n",
    "ISR_df = ISR_df.merge(student_section_df, how='left', on='Student_Section__c')\n",
    "ISR_df['student_program'] = ISR_df['Student__c'] + '_' + ISR_df['Program__c']\n",
    "ISR_df['Intervention_Session_Date__c'] = pd.to_datetime(ISR_df['Intervention_Session_Date__c'])\n",
    "ISR_df['CreatedDate'] = pd.to_datetime(ISR_df['CreatedDate']).dt.normalize()\n",
    "# ISR_df = ISR_df.loc[ISR_df['Intervention_Session_Date__c'] < '2017-12-11']\n",
    "\n",
    "aggs = ['sum', 'mean', 'count']\n",
    "ISR_df_agg = ISR_df.groupby('student_program')['Amount_of_Time__c'].agg(aggs).reset_index()\n",
    "ISR_df_agg.rename(columns=dict(zip(aggs, ['ToT_' + col for col in aggs])), inplace=True)"
   ]
  },
  {
   "cell_type": "code",
   "execution_count": null,
   "metadata": {},
   "outputs": [],
   "source": [
    "ISR_df.groupby(['Program_Name__c', 'Primary_Skill__c'])['Amount_of_Time__c'].count()"
   ]
  },
  {
   "cell_type": "code",
   "execution_count": null,
   "metadata": {},
   "outputs": [],
   "source": [
    "ISR_df['LogDaysDiff'] = (ISR_df['CreatedDate'] - ISR_df['Intervention_Session_Date__c']).dt.days\n",
    "student_df = get_cysh_df('Student__c', ['Id', 'School_Name__c'], rename_id=True)\n",
    "ISR_df = ISR_df.merge(student_df, on='Student__c')\n",
    "ISR_df.loc[ISR_df['Intervention_Session_Date__c']>'2018-02-05'].groupby('School_Name__c')['LogDaysDiff'].mean().sort_values()"
   ]
  },
  {
   "cell_type": "code",
   "execution_count": null,
   "metadata": {},
   "outputs": [],
   "source": [
    "# Q3_ToT = ISR_df.loc[ISR_df['Intervention_Session_Date__c']<='2018-04-12']\n",
    "# Q3_ToT = ISR_df.groupby(['Student_Id__c', 'Program_Name__c'])['Amount_of_Time__c'].sum().reset_index()\n",
    "# Q3_ToT.to_csv(r'Z:\\ChiPrivate\\Chicago Reports and Evaluation\\SY18\\SY18 Quarterly Reports\\Quarter 3\\Q3 ToT Freeze.csv', index=False)"
   ]
  },
  {
   "cell_type": "code",
   "execution_count": null,
   "metadata": {},
   "outputs": [],
   "source": [
    "# add ToT sum by student_program\n",
    "ISR_df = ISR_df.merge(ISR_df_agg, how='left', on='student_program')\n",
    "\n",
    "# drop duplicates on student_section, reduce columns\n",
    "ISR_df.drop_duplicates('Student_Section__c', inplace=True)\n",
    "\n",
    "df = df.merge(ISR_df[['Section__c', 'Student__c'] + list(ISR_df_agg.columns)], on='Section__c')"
   ]
  },
  {
   "cell_type": "code",
   "execution_count": null,
   "metadata": {},
   "outputs": [],
   "source": [
    "df.to_csv('time_on_task_2017-12-11.csv', index=False)"
   ]
  },
  {
   "cell_type": "code",
   "execution_count": null,
   "metadata": {},
   "outputs": [],
   "source": [
    "# define active as students who received more than 200 mins tutoring?\n",
    "# other factors to add at some point: Number of ACMs who contributed a meaningful amount of time"
   ]
  }
 ],
 "metadata": {
  "kernelspec": {
   "display_name": "Python 3",
   "language": "python",
   "name": "python3"
  },
  "language_info": {
   "codemirror_mode": {
    "name": "ipython",
    "version": 3
   },
   "file_extension": ".py",
   "mimetype": "text/x-python",
   "name": "python",
   "nbconvert_exporter": "python",
   "pygments_lexer": "ipython3",
   "version": "3.6.8"
  }
 },
 "nbformat": 4,
 "nbformat_minor": 2
}
