{
 "cells": [
  {
   "cell_type": "code",
   "execution_count": null,
   "metadata": {},
   "outputs": [],
   "source": [
    "from simple_cysh import * # includes pandas as pd\n",
    "import os"
   ]
  },
  {
   "cell_type": "code",
   "execution_count": null,
   "metadata": {},
   "outputs": [],
   "source": [
    "os.chdir(r'Z:\\ChiPrivate\\Chicago Reports and Evaluation\\SY18\\Eval Management\\ACM_analysis')"
   ]
  },
  {
   "cell_type": "code",
   "execution_count": null,
   "metadata": {
    "scrolled": false
   },
   "outputs": [],
   "source": [
    "# contact 'ID__c' matches to raw survey 'EmployeeID', but staff__c 'ID__c' does not... but need the staff salesforce ID\n",
    "contact_df = get_cysh_df('Contact', ['Name', 'ID__c', 'Reference_Id__c', 'Title', 'Active__c'])\n",
    "\n",
    "# staff_df has 'ID__c' but it doesn't match to raw survey ID\n",
    "staff_df = get_cysh_df('Staff__c', ['Id', 'Name', 'legacy_key2__c'], \"Site__c = 'Chicago'\", rename_id=True)\n",
    "\n",
    "df = staff_df.merge(contact_df, left_on='legacy_key2__c', right_on='Reference_Id__c')\n",
    "\n",
    "Q2_survey = pd.read_excel('privatedata/FY18 Q2 ACM Survey Data - Chicago.xlsx')\n",
    "Q2_survey['EmployeeID'] = Q2_survey['EmployeeID'].astype(str)\n",
    "df = df.merge(Q2_survey, left_on='ID__c', right_on='EmployeeID')\n",
    "\n",
    "df.to_csv('ACM_Q2_survey.csv', index=False)"
   ]
  },
  {
   "cell_type": "code",
   "execution_count": null,
   "metadata": {},
   "outputs": [],
   "source": [
    "# Raw Q1 Data Dictionary\n",
    "var_info = pd.read_excel('Raw Survey Data/Variable Info.xlsx', sheet_name='FY18 Q1 ACM', \n",
    "                         skiprows=1, usecols=10)\n",
    "var_info = var_info.loc[0:230]\n",
    "\n",
    "var_vals = pd.read_excel('Raw Survey Data/Variable Info.xlsx', sheet_name='FY18 Q1 ACM', \n",
    "                         skiprows=236, index_col=[0,1], usecols=[0,1,2])\n",
    "\n",
    "# Raw Q1 Survey\n",
    "acm_q1surv = pd.read_csv('Raw Survey Data/FY18 Q1 ACM Survey.csv')"
   ]
  },
  {
   "cell_type": "code",
   "execution_count": null,
   "metadata": {},
   "outputs": [],
   "source": [
    "ord_var_info = var_info.loc[var_info['Measurement Level']=='Ordinal']"
   ]
  },
  {
   "cell_type": "code",
   "execution_count": null,
   "metadata": {
    "scrolled": true
   },
   "outputs": [],
   "source": [
    "acm_q1surv[[column for column in acm_q1surv.columns if ord_var_info['Variable'].str.contains(column).any()]]"
   ]
  }
 ],
 "metadata": {
  "kernelspec": {
   "display_name": "Python 3",
   "language": "python",
   "name": "python3"
  },
  "language_info": {
   "codemirror_mode": {
    "name": "ipython",
    "version": 3
   },
   "file_extension": ".py",
   "mimetype": "text/x-python",
   "name": "python",
   "nbconvert_exporter": "python",
   "pygments_lexer": "ipython3",
   "version": "3.6.4"
  }
 },
 "nbformat": 4,
 "nbformat_minor": 2
}
