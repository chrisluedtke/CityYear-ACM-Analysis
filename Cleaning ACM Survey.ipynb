{
 "cells": [
  {
   "cell_type": "code",
   "execution_count": null,
   "metadata": {},
   "outputs": [],
   "source": [
    "import os\n",
    "\n",
    "import pandas as pd\n",
    "\n",
    "#from simple_cysh import *\n",
    "\n",
    "os.chdir(r'Z:\\ChiPrivate\\Chicago Reports and Evaluation\\SY18\\Eval Management\\ACM_analysis')"
   ]
  },
  {
   "cell_type": "code",
   "execution_count": null,
   "metadata": {},
   "outputs": [],
   "source": [
    "# Use email column as key\n",
    "staff_df = get_cysh_df('Staff__c', ['Id', 'Name', 'Email__c', 'Organization__c', 'Role__c'], \"Site__c = 'Chicago'\", rename_id=True)\n",
    "staff_df.rename(columns={'Organization__c':'School__c', 'Email__c':'Email'}, inplace=True)\n",
    "staff_df.loc[:, 'Email'] = staff_df['Email'].str.lower()\n",
    "roles = ['Senior Corps Team Leader', 'Team Leader', 'Corps Member', 'Second Year Corps Member']\n",
    "staff_df = staff_df.loc[staff_df['Role__c'].isin(roles)]\n",
    "\n",
    "school_df = get_cysh_df('Account', ['Id', 'Name'])\n",
    "school_df.rename(columns={'Id':'School__c', 'Name':'School_Name'}, inplace=True)"
   ]
  },
  {
   "cell_type": "code",
   "execution_count": null,
   "metadata": {},
   "outputs": [],
   "source": [
    "acm_df = staff_df.merge(school_df, on='School__c')"
   ]
  },
  {
   "cell_type": "markdown",
   "metadata": {},
   "source": [
    "# Onboarding Survey"
   ]
  },
  {
   "cell_type": "code",
   "execution_count": null,
   "metadata": {},
   "outputs": [],
   "source": [
    "acm_q0surv = pd.read_excel('SY18 FINAL Team Placements.xlsx')\n",
    "acm_q0surv_cols = [\n",
    "    'Full.Name (CYSH Staff Object)',\n",
    "    'Tutoring.Experience.Months',\n",
    "    #'Teaching.Credential',\n",
    "    'Tutoring.Preference',\n",
    "    'Math.Confidence',\n",
    "    'Age',\n",
    "    'Educational.Attainment'\n",
    "]\n",
    "\n",
    "acm_df = acm_df.merge(acm_q0surv[acm_q0surv_cols], how='left', left_on='Name', right_on='Full.Name (CYSH Staff Object)')\n",
    "del acm_df['Full.Name (CYSH Staff Object)']"
   ]
  },
  {
   "cell_type": "markdown",
   "metadata": {},
   "source": [
    "# Quarterly Surveys"
   ]
  },
  {
   "cell_type": "code",
   "execution_count": null,
   "metadata": {
    "scrolled": true
   },
   "outputs": [],
   "source": [
    "def get_survey_df(Q):\n",
    "    \"\"\" Read in survey's data dictionary and raw survey results.\n",
    "    \n",
    "    Replaces coded values with categorical values and replaces likert score categorical values with numerical values.\n",
    "    \"\"\"\n",
    "    \n",
    "    data_dict = pd.read_excel('Raw Survey Data/FY18 ACM Survey Variable Info.xlsx', sheet_name=f'FY18 {Q} ACM', header=None)\n",
    "    \n",
    "    table_2_index = data_dict.loc[data_dict[0]=='Value', :].index.values[0]\n",
    "    \n",
    "    var_info = data_dict.iloc[2:(table_2_index-3), :]\n",
    "    var_info.columns = data_dict.iloc[1, :]\n",
    "    \n",
    "    var_vals = data_dict.iloc[(table_2_index + 1):, 0:3]\n",
    "    var_vals.columns=['Variable', 'Value', 'Label']\n",
    "    var_vals.loc[:, 'Variable'] = var_vals['Variable'].ffill()\n",
    "    \n",
    "    survey_df = pd.read_csv(f'Raw Survey Data/FY18 {Q} ACM Survey.csv')\n",
    "    survey_df.rename(columns={'Vemail':'Email'}, inplace=True)\n",
    "    survey_df.loc[:, 'Email'] = survey_df['Email'].str.lower()\n",
    "    \n",
    "    for variable in var_vals['Variable'].unique():\n",
    "        df = var_vals.loc[var_vals['Variable']==variable, :].copy()\n",
    "        survey_df.loc[:, variable] = survey_df[variable].astype(str)\n",
    "        survey_df.loc[:, variable] = survey_df[variable].map(dict(zip(df['Value'], df['Label'])))\n",
    "    \n",
    "    # There may be items with 3-point likert scales that are erroneously replaced in this step\n",
    "    likert5_map = {'Strongly disagree': 1,\n",
    "                   'Disagree': 2,\n",
    "                   'Neither disagree or agree': 3,\n",
    "                   'Agree': 4,\n",
    "                   'Strongly agree': 5}\n",
    "\n",
    "    survey_df = survey_df.replace(likert5_map)\n",
    "    \n",
    "    return survey_df\n",
    "\n",
    "def select_cols(survey_df, Q):\n",
    "    cols_dict = {\n",
    "        'Q1':[\n",
    "            'var5', # \"I am pleased with my decision to join City Year\"\n",
    "            'var7', # \"I intend to complete this year of service\"\n",
    "            'var31', # \"How likely are you to recommend City Year to a\"\n",
    "            'var76', # \"I understand the significance of being on a team in order for my service to be successful\"\n",
    "            'var77', # \"I benefit from being a member of my school team  \"\n",
    "            'var79', # \"I feel comfortable supporting students with Literacy\"\n",
    "            'var80', # \"I feel comfortable supporting students with Math\"\n",
    "            'var85', # \"I feel welcomed at the school I serve\"\n",
    "            'var86', # \"I feel prepared to serve the students at this school\"\n",
    "            'var87', # \"I am looking forward to working with my partner teacher this year\"\n",
    "            'var88', # \"I feel equipped to build a strong relationship with my partner teacher\"\n",
    "            #'Q1NetPromoter'\n",
    "        ],\n",
    "        'Q2':[\n",
    "            'var51O96', # Commute:What has been the most challenging part of your service year so far? Please select all that apply  \n",
    "        ],\n",
    "        'Q3':[\n",
    "            'var31', \n",
    "            'var32', \n",
    "        ]\n",
    "    }\n",
    "    \n",
    "    cols = cols_dict[Q]\n",
    "    \n",
    "    survey_df = survey_df[['Email'] + cols.copy()]\n",
    "    \n",
    "    rename_cols_map = dict(zip(cols, [f'{Q}_' + col for col in cols])\n",
    "    \n",
    "    survey_df.rename(columns=rename_cols_map), inplace=True)\n",
    "    \n",
    "    return survey_df"
   ]
  },
  {
   "cell_type": "code",
   "execution_count": null,
   "metadata": {},
   "outputs": [],
   "source": [
    "acm_q1surv = get_survey_df(Q='Q1')\n",
    "acm_q2surv = get_survey_df(Q='Q2')\n",
    "acm_q3surv = get_survey_df(Q='Q3')\n",
    "acm_q4surv = get_survey_df(Q='Q4')"
   ]
  },
  {
   "cell_type": "code",
   "execution_count": null,
   "metadata": {},
   "outputs": [],
   "source": [
    "acm_q1surv = select_cols(acm_q1surv, 'Q1')\n",
    "acm_q2surv = select_cols(acm_q2surv, 'Q2')\n",
    "acm_q3surv = select_cols(acm_q3surv, 'Q3')"
   ]
  },
  {
   "cell_type": "code",
   "execution_count": null,
   "metadata": {},
   "outputs": [],
   "source": [
    "acm_df = acm_df.merge(acm_q1surv, how='left', on='Email')\n",
    "acm_df = acm_df.merge(acm_q2surv, how='left', on='Email')\n",
    "acm_df = acm_df.merge(acm_q3surv, how='left', on='Email')\n",
    "acm_df.to_csv('ACM_surveys.csv', index=False)"
   ]
  },
  {
   "cell_type": "code",
   "execution_count": null,
   "metadata": {},
   "outputs": [],
   "source": [
    "# with pd.option_context('display.max_rows', None, 'display.max_columns', 4):\n",
    "#     print(var_info_q1surv[['Variable', 'Label']])"
   ]
  },
  {
   "cell_type": "code",
   "execution_count": null,
   "metadata": {},
   "outputs": [],
   "source": [
    "# Q2_survey = pd.read_excel('privatedata/FY18 Q2 ACM Survey Data - Chicago.xlsx')\n",
    "# Q2_survey['EmployeeID'] = Q2_survey['EmployeeID'].astype(str)\n",
    "# df = df.merge(Q2_survey, left_on='ID__c', right_on='EmployeeID')\n",
    "# df.to_csv('ACM_Q2_survey.csv', index=False)"
   ]
  }
 ],
 "metadata": {
  "kernelspec": {
   "display_name": "Python 3",
   "language": "python",
   "name": "python3"
  },
  "language_info": {
   "codemirror_mode": {
    "name": "ipython",
    "version": 3
   },
   "file_extension": ".py",
   "mimetype": "text/x-python",
   "name": "python",
   "nbconvert_exporter": "python",
   "pygments_lexer": "ipython3",
   "version": "3.6.4"
  }
 },
 "nbformat": 4,
 "nbformat_minor": 2
}
