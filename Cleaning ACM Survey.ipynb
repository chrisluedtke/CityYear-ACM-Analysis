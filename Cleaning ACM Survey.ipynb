{
 "cells": [
  {
   "cell_type": "code",
   "execution_count": null,
   "metadata": {},
   "outputs": [],
   "source": [
    "from simple_cysh import * # includes pandas as pd\n",
    "import os\n",
    "os.chdir(r'Z:\\ChiPrivate\\Chicago Reports and Evaluation\\SY18\\Eval Management\\ACM_analysis')"
   ]
  },
  {
   "cell_type": "code",
   "execution_count": null,
   "metadata": {},
   "outputs": [],
   "source": [
    "# contact 'ID__c' matches to raw survey 'EmployeeID', but staff__c 'ID__c' does not... but need the staff salesforce ID\n",
    "contact_df = get_cysh_df('Contact', ['Name', 'ID__c', 'Reference_Id__c', 'Title', 'Active__c'])\n",
    "\n",
    "# staff_df has 'ID__c' but it doesn't match to raw survey ID\n",
    "staff_df = get_cysh_df('Staff__c', ['Id', 'Name', 'legacy_key2__c'], \"Site__c = 'Chicago'\", rename_id=True)\n",
    "\n",
    "acm_df = staff_df.merge(contact_df, left_on='legacy_key2__c', right_on='Reference_Id__c')"
   ]
  },
  {
   "cell_type": "code",
   "execution_count": null,
   "metadata": {
    "scrolled": false
   },
   "outputs": [],
   "source": [
    "Q2_survey = pd.read_excel('privatedata/FY18 Q2 ACM Survey Data - Chicago.xlsx')\n",
    "Q2_survey['EmployeeID'] = Q2_survey['EmployeeID'].astype(str)\n",
    "df = df.merge(Q2_survey, left_on='ID__c', right_on='EmployeeID')\n",
    "\n",
    "df.to_csv('ACM_Q2_survey.csv', index=False)"
   ]
  },
  {
   "cell_type": "code",
   "execution_count": null,
   "metadata": {},
   "outputs": [],
   "source": [
    "# TODO: research why common practive to encode survey data this way\n",
    "# Raw Q1 Data Dictionary\n",
    "var_info_q1surv = pd.read_excel('Raw Survey Data/Variable Info.xlsx', sheet_name='FY18 Q1 ACM', \n",
    "                                skiprows=1, usecols=10)\n",
    "var_info_q1surv = var_info_q1surv.loc[0:230]\n",
    "\n",
    "var_vals_q1surv = pd.read_excel('Raw Survey Data/Variable Info.xlsx', sheet_name='FY18 Q1 ACM', \n",
    "                                skiprows=236, index_col=[0,1], usecols=[0,1,2])"
   ]
  },
  {
   "cell_type": "code",
   "execution_count": null,
   "metadata": {},
   "outputs": [],
   "source": [
    "# Raw Q1 Survey\n",
    "acm_q1surv = pd.read_csv('Raw Survey Data/FY18 Q1 ACM Survey.csv')\n",
    "acm_q1surv.rename(columns={'Vcust8':'ID__c'}, inplace=True)"
   ]
  },
  {
   "cell_type": "code",
   "execution_count": null,
   "metadata": {},
   "outputs": [],
   "source": [
    "# Some Sample Items to look into\n",
    "interesting_cols = [\n",
    "'ID__c',\n",
    "'var5', # I am pleased with my decision to join City Year\n",
    "'var76', # I understand the significance of being on a team in order for my service to be successful\n",
    "'var77', # I benefit from being a member of my school team  \n",
    "'var79', # I feel comfortable supporting students with Literacy\n",
    "'var80', # I feel comfortable supporting students with Math\n",
    "'var85', # I feel welcomed at the school I serve\n",
    "'var86', # I feel prepared to serve the students at this school\n",
    "'var87', # I am looking forward to working with my partner teacher this year\n",
    "'var88', # I feel equipped to build a strong relationship with my partner teacher\n",
    "'Q1NetPromoter'\n",
    "]"
   ]
  },
  {
   "cell_type": "code",
   "execution_count": null,
   "metadata": {},
   "outputs": [],
   "source": [
    "survey_subset = acm_q1surv[[column for column in acm_q1surv.columns if column in interesting_cols]]\n",
    "survey_subset['ID__c'] = inter_df['ID__c'].astype(str)\n",
    "acm_df['ID__c'] = acm_df['ID__c'].astype(str)"
   ]
  },
  {
   "cell_type": "code",
   "execution_count": null,
   "metadata": {},
   "outputs": [],
   "source": [
    "survey_subset = acm_df[['Staff__c', 'ID__c']].merge(survey_subset, on='ID__c')"
   ]
  },
  {
   "cell_type": "code",
   "execution_count": null,
   "metadata": {},
   "outputs": [],
   "source": [
    "survey_subset.head()"
   ]
  },
  {
   "cell_type": "code",
   "execution_count": null,
   "metadata": {},
   "outputs": [],
   "source": [
    "ord_var_info = var_info.loc[var_info['Measurement Level']=='Ordinal']"
   ]
  },
  {
   "cell_type": "code",
   "execution_count": null,
   "metadata": {
    "scrolled": true
   },
   "outputs": [],
   "source": [
    "acm_q1surv[[column for column in acm_q1surv.columns if ord_var_info['Variable'].str.contains(column).any()]]"
   ]
  }
 ],
 "metadata": {
  "kernelspec": {
   "display_name": "Python 3",
   "language": "python",
   "name": "python3"
  },
  "language_info": {
   "codemirror_mode": {
    "name": "ipython",
    "version": 3
   },
   "file_extension": ".py",
   "mimetype": "text/x-python",
   "name": "python",
   "nbconvert_exporter": "python",
   "pygments_lexer": "ipython3",
   "version": "3.6.4"
  }
 },
 "nbformat": 4,
 "nbformat_minor": 2
}
