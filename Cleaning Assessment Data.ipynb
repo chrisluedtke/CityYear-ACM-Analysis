{
 "cells": [
  {
   "cell_type": "code",
   "execution_count": 9,
   "metadata": {},
   "outputs": [],
   "source": [
    "from simple_cysh import *"
   ]
  },
  {
   "cell_type": "code",
   "execution_count": 11,
   "metadata": {},
   "outputs": [],
   "source": [
    "# get assessments\n",
    "assmt_df = get_cysh_df('Assesment__c', ['Id', 'Type__c', 'Date_Administered__c',\n",
    "                                        'X0_to_300_Scaled_Score__c', 'Student__c'])\n",
    "\n",
    "# get assessment type\n",
    "assmt_types = get_cysh_df('Picklist_Value__c', ['Id', 'Name'])\n",
    "assmt_types = assmt_types.rename(columns={'Id': 'Type__c', 'Name':'Assessment Type'})\n",
    "\n",
    "assmt_df = assmt_df.merge(assmt_types, how='left', on='Type__c')\n",
    "\n",
    "assmt_df = assmt_df.loc[assmt_df['Assessment Type'].str.contains('NWEA')]"
   ]
  },
  {
   "cell_type": "code",
   "execution_count": null,
   "metadata": {},
   "outputs": [],
   "source": [
    "## Next Steps\n",
    "# pivot - one student per row, multiple tests as columns\n",
    "# calculate fall to spring targets\n",
    "# determine student growth\n",
    "# associate students with ACM"
   ]
  }
 ],
 "metadata": {
  "kernelspec": {
   "display_name": "Python 3",
   "language": "python",
   "name": "python3"
  },
  "language_info": {
   "codemirror_mode": {
    "name": "ipython",
    "version": 3
   },
   "file_extension": ".py",
   "mimetype": "text/x-python",
   "name": "python",
   "nbconvert_exporter": "python",
   "pygments_lexer": "ipython3",
   "version": "3.6.4"
  }
 },
 "nbformat": 4,
 "nbformat_minor": 2
}
