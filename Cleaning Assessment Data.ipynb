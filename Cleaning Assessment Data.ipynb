{
 "cells": [
  {
   "cell_type": "code",
   "execution_count": 88,
   "metadata": {},
   "outputs": [],
   "source": [
    "from simple_cysh import * # includes pandas as pd"
   ]
  },
  {
   "cell_type": "code",
   "execution_count": 73,
   "metadata": {},
   "outputs": [
    {
     "data": {
      "text/plain": [
       "['attributes',\n",
       " 'Id',\n",
       " 'IsDeleted',\n",
       " 'Name',\n",
       " 'CreatedDate',\n",
       " 'CreatedById',\n",
       " 'LastModifiedDate',\n",
       " 'LastModifiedById',\n",
       " 'SystemModstamp',\n",
       " 'LastViewedDate',\n",
       " 'LastReferencedDate',\n",
       " 'Student__c',\n",
       " 'DCCAS_Math_Goal_Met__c',\n",
       " 'DCCAS_Reading_Goal_Met__c',\n",
       " 'Date_Administered__c',\n",
       " 'Date__c',\n",
       " 'Goal_Met__c',\n",
       " 'Location__c',\n",
       " 'School__c',\n",
       " 'Show_On_Report_Card__c',\n",
       " 'Show_On_Transcript__c',\n",
       " 'Student_Grade__c',\n",
       " 'Student_Id__c',\n",
       " 'Student_Name__c',\n",
       " 'Testing_Grade_Level__c',\n",
       " 'Type__c',\n",
       " 'Year_Over_Year__c',\n",
       " 'X0_to_300_Scaled_Score__c',\n",
       " 'Student_Last_Name__c',\n",
       " 'Student_Gender__c',\n",
       " 'Student_First_Name__c',\n",
       " 'Student_DOB__c']"
      ]
     },
     "execution_count": 73,
     "metadata": {},
     "output_type": "execute_result"
    }
   ],
   "source": [
    "# deermine which fields are actively used in our system within the Assesment__c object\n",
    "single_assmt = cysh.Assesment__c.get('a041a00000EmURoAAN')\n",
    "single_assmt = pd.DataFrame(list(single_assmt.items()))\n",
    "list(single_assmt.loc[~single_assmt[1].isnull()][0])"
   ]
  },
  {
   "cell_type": "code",
   "execution_count": null,
   "metadata": {},
   "outputs": [],
   "source": [
    "# get all assessments with desired fields\n",
    "assmt_df = get_cysh_df('Assesment__c', ['Id', 'Type__c', 'Date_Administered__c',\n",
    "                                        'X0_to_300_Scaled_Score__c', 'Student__c',\n",
    "                                        'Testing_Grade_Level__c'], rename_id=True)\n",
    "\n",
    "# get assessment type\n",
    "assmt_types = get_cysh_df('Picklist_Value__c', ['Id', 'Name'])\n",
    "assmt_types = assmt_types.rename(columns={'Id': 'Type__c', 'Name':'Assessment Type'})\n",
    "assmt_df = assmt_df.merge(assmt_types, how='left', on='Type__c')\n",
    "del assmt_df['Type__c']\n",
    "\n",
    "# filter for valid assessments\n",
    "assmt_df = assmt_df.loc[assmt_df['Assessment Type'].str.contains('NWEA')\n",
    "                        & ~assmt_df['X0_to_300_Scaled_Score__c'].isnull()\n",
    "                        & (assmt_df['X0_to_300_Scaled_Score__c']>0)]"
   ]
  },
  {
   "cell_type": "code",
   "execution_count": null,
   "metadata": {},
   "outputs": [],
   "source": [
    "# get current year grade level for each student\n",
    "stu_sec_df = get_cysh_df('Student_Section__c', ['Student__c', 'Student_Grade__c'])\n",
    "# match in grade level\n",
    "# for "
   ]
  },
  {
   "cell_type": "code",
   "execution_count": 95,
   "metadata": {},
   "outputs": [
    {
     "data": {
      "text/html": [
       "<div>\n",
       "<style scoped>\n",
       "    .dataframe tbody tr th:only-of-type {\n",
       "        vertical-align: middle;\n",
       "    }\n",
       "\n",
       "    .dataframe tbody tr th {\n",
       "        vertical-align: top;\n",
       "    }\n",
       "\n",
       "    .dataframe thead th {\n",
       "        text-align: right;\n",
       "    }\n",
       "</style>\n",
       "<table border=\"1\" class=\"dataframe\">\n",
       "  <thead>\n",
       "    <tr style=\"text-align: right;\">\n",
       "      <th></th>\n",
       "      <th>Key</th>\n",
       "      <th>NWEA - ELA_2017-07-01</th>\n",
       "      <th>NWEA - ELA_2017-09-20</th>\n",
       "      <th>NWEA - ELA_2018-01-09</th>\n",
       "      <th>NWEA - MATH_2017-07-01</th>\n",
       "      <th>NWEA - MATH_2017-09-20</th>\n",
       "      <th>NWEA - MATH_2018-01-09</th>\n",
       "    </tr>\n",
       "    <tr>\n",
       "      <th>Student__c</th>\n",
       "      <th>Testing_Grade_Level__c</th>\n",
       "      <th></th>\n",
       "      <th></th>\n",
       "      <th></th>\n",
       "      <th></th>\n",
       "      <th></th>\n",
       "      <th></th>\n",
       "    </tr>\n",
       "  </thead>\n",
       "  <tbody>\n",
       "  </tbody>\n",
       "</table>\n",
       "</div>"
      ],
      "text/plain": [
       "Empty DataFrame\n",
       "Columns: [NWEA - ELA_2017-07-01, NWEA - ELA_2017-09-20, NWEA - ELA_2018-01-09, NWEA - MATH_2017-07-01, NWEA - MATH_2017-09-20, NWEA - MATH_2018-01-09]\n",
       "Index: []"
      ]
     },
     "execution_count": 95,
     "metadata": {},
     "output_type": "execute_result"
    }
   ],
   "source": [
    "# pivot: one student per row, assessments as columns\n",
    "assmt_df['Key'] = assmt_df['Assessment Type'] + '_' + assmt_df['Date_Administered__c']\n",
    "\n",
    "assmt_pivot = assmt_df.pivot_table(index=['Student__c', 'Testing_Grade_Level__c'], columns='Key', values='X0_to_300_Scaled_Score__c')\n",
    "assmt_pivot.head(0)"
   ]
  },
  {
   "cell_type": "markdown",
   "metadata": {},
   "source": [
    "# Generate Assessment Targets\n",
    "* calculate fall to spring targets\n",
    "* determine student growth\n",
    "* associate students with ACM"
   ]
  }
 ],
 "metadata": {
  "kernelspec": {
   "display_name": "Python 3",
   "language": "python",
   "name": "python3"
  },
  "language_info": {
   "codemirror_mode": {
    "name": "ipython",
    "version": 3
   },
   "file_extension": ".py",
   "mimetype": "text/x-python",
   "name": "python",
   "nbconvert_exporter": "python",
   "pygments_lexer": "ipython3",
   "version": "3.6.4"
  }
 },
 "nbformat": 4,
 "nbformat_minor": 2
}
