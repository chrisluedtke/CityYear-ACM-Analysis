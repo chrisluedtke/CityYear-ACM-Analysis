{
 "cells": [
  {
   "cell_type": "code",
   "execution_count": null,
   "metadata": {},
   "outputs": [],
   "source": [
    "from simple_cysh import * # includes pandas as pd"
   ]
  },
  {
   "cell_type": "code",
   "execution_count": null,
   "metadata": {},
   "outputs": [],
   "source": [
    "# determine which fields are actively used in our system within the Assesment__c object\n",
    "single_assmt = cysh.Assesment__c.get('a041a00000EmURoAAN')\n",
    "single_assmt = pd.DataFrame(list(single_assmt.items()))\n",
    "list(single_assmt.loc[~single_assmt[1].isnull()][0])"
   ]
  },
  {
   "cell_type": "code",
   "execution_count": null,
   "metadata": {},
   "outputs": [],
   "source": [
    "# get all assessments with desired fields\n",
    "assmt_df = get_cysh_df('Assesment__c', ['Id', 'Type__c', 'Date_Administered__c',\n",
    "                                        'X0_to_300_Scaled_Score__c', 'Student__c'], rename_id=True)\n",
    "\n",
    "# get assessment type\n",
    "assmt_types = get_cysh_df('Picklist_Value__c', ['Id', 'Name'])\n",
    "assmt_types = assmt_types.rename(columns={'Id': 'Type__c', 'Name':'Assessment Type'})\n",
    "assmt_df = assmt_df.merge(assmt_types, how='left', on='Type__c')\n",
    "del assmt_df['Type__c']\n",
    "\n",
    "# filter for valid assessments\n",
    "assmt_df = assmt_df.loc[assmt_df['Assessment Type'].str.contains('NWEA')\n",
    "                        & ~assmt_df['X0_to_300_Scaled_Score__c'].isnull()\n",
    "                        & (assmt_df['X0_to_300_Scaled_Score__c']>0)]"
   ]
  },
  {
   "cell_type": "code",
   "execution_count": null,
   "metadata": {
    "scrolled": false
   },
   "outputs": [],
   "source": [
    "# pivot: one student per row, assessments as columns\n",
    "assmt_df['Key'] = assmt_df['Assessment Type'] + '_' + assmt_df['Date_Administered__c']\n",
    "\n",
    "assmt_df = assmt_df.pivot_table(index=['Student__c'], columns='Key', values='X0_to_300_Scaled_Score__c')\n",
    "assmt_df.head(0)"
   ]
  },
  {
   "cell_type": "code",
   "execution_count": null,
   "metadata": {},
   "outputs": [],
   "source": [
    "# get current year grade level for each student\n",
    "stu_sec_df = get_cysh_df('Student_Section__c', ['Student__c', 'Student_Grade__c'])\n",
    "stu_sec_df.drop_duplicates('Student__c', inplace=True)\n",
    "stu_sec_df.set_index('Student__c', inplace=True)\n",
    "assmt_df = assmt_df.merge(stu_sec_df, how='left', left_index=True, right_index=True)"
   ]
  },
  {
   "cell_type": "code",
   "execution_count": null,
   "metadata": {},
   "outputs": [],
   "source": [
    "# set baseline and calculate growth\n",
    "assmt_df['NWEA - ELA_Baseline'] = assmt_df[['NWEA - ELA_2017-07-01', 'NWEA - ELA_2017-09-20']].bfill(axis=1).iloc[:, 0]\n",
    "assmt_df['NWEA - MATH_Baseline'] = assmt_df[['NWEA - MATH_2017-07-01', 'NWEA - MATH_2017-09-20']].bfill(axis=1).iloc[:, 0]\n",
    "assmt_df['NWEA - ELA_Growth'] = assmt_df['NWEA - ELA_2018-01-09'] - assmt_df['NWEA - ELA_Baseline']\n",
    "assmt_df['NWEA - MATH_Growth'] = assmt_df['NWEA - MATH_2018-01-09'] - assmt_df['NWEA - MATH_Baseline']"
   ]
  },
  {
   "cell_type": "code",
   "execution_count": null,
   "metadata": {},
   "outputs": [],
   "source": [
    "# load in targets reference (produced in 'Generate Student Targets.ipynb')\n",
    "targets_df = pd.read_csv('privatedata/assessment_targets_fall_to_winter.csv')\n",
    "targets_df['Key'] = targets_df['Grade'].astype(str) + '_' + targets_df['Score'].astype(str) + '.0'\n",
    "ELA_targets_df = targets_df.loc[targets_df['Subject']=='Reading']\n",
    "ELA_targets_df.columns = ['ELA_'+ col for col in ELA_targets_df.columns]\n",
    "MATH_targets_df = targets_df.loc[targets_df['Subject']=='Mathematics']\n",
    "MATH_targets_df.columns = ['MATH_'+ col for col in MATH_targets_df.columns]"
   ]
  },
  {
   "cell_type": "code",
   "execution_count": null,
   "metadata": {},
   "outputs": [],
   "source": [
    "# merge in growth targets and find difference with actual growth\n",
    "assmt_df['ELA_Key'] = assmt_df['Student_Grade__c'].astype(str) + '_' + assmt_df['NWEA - ELA_Baseline'].astype(str)\n",
    "assmt_df['MATH_Key'] = assmt_df['Student_Grade__c'].astype(str) + '_' + assmt_df['NWEA - MATH_Baseline'].astype(str)\n",
    "assmt_df = assmt_df.merge(ELA_targets_df[['ELA_Target_Growth', 'ELA_Target_Growth_SD', 'ELA_Key']], \n",
    "                          how='left', on='ELA_Key').set_index(assmt_df.index)\n",
    "assmt_df = assmt_df.merge(MATH_targets_df[['MATH_Target_Growth', 'MATH_Target_Growth_SD', 'MATH_Key']], \n",
    "                          how='left', on='MATH_Key').set_index(assmt_df.index)\n",
    "assmt_df['ELA_Growth_v_Target'] = assmt_df['NWEA - ELA_Growth'] - assmt_df['ELA_Target_Growth']\n",
    "assmt_df['MATH_Growth_v_Target'] = assmt_df['NWEA - MATH_Growth'] - assmt_df['MATH_Target_Growth']"
   ]
  },
  {
   "cell_type": "markdown",
   "metadata": {},
   "source": [
    "# TODO\n",
    "* associate students with ACM, filter for active students\n",
    "\n",
    "# Analysis Questions\n",
    "* visualize tutoring time against growth\n",
    "* visualize O&C scores against growth\n",
    "* visualize growth against test date (whether baseline came from prior year or from fall)"
   ]
  }
 ],
 "metadata": {
  "kernelspec": {
   "display_name": "Python 3",
   "language": "python",
   "name": "python3"
  },
  "language_info": {
   "codemirror_mode": {
    "name": "ipython",
    "version": 3
   },
   "file_extension": ".py",
   "mimetype": "text/x-python",
   "name": "python",
   "nbconvert_exporter": "python",
   "pygments_lexer": "ipython3",
   "version": "3.6.4"
  }
 },
 "nbformat": 4,
 "nbformat_minor": 2
}
