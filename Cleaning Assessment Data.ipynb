{
 "cells": [
  {
   "cell_type": "code",
   "execution_count": null,
   "metadata": {},
   "outputs": [],
   "source": [
    "import numpy as np\n",
    "import os\n",
    "from simple_cysh import * # includes pandas as pd\n",
    "%matplotlib inline\n",
    "os.chdir(r'Z:\\ChiPrivate\\Chicago Reports and Evaluation\\SY18\\Eval Management\\ACM_analysis')"
   ]
  },
  {
   "cell_type": "code",
   "execution_count": null,
   "metadata": {},
   "outputs": [],
   "source": [
    "# get all assessments with desired fields\n",
    "assmt_df = get_cysh_df('Assesment__c', ['Id', 'Type__c', 'Date_Administered__c',\n",
    "                                        'X0_to_300_Scaled_Score__c', 'Student__c'], rename_id=True)\n",
    "\n",
    "# get assessment type\n",
    "assmt_types = get_cysh_df('Picklist_Value__c', ['Id', 'Name'])\n",
    "assmt_types = assmt_types.rename(columns={'Id': 'Type__c', 'Name':'Assessment Type'})\n",
    "assmt_df = assmt_df.merge(assmt_types, how='left', on='Type__c')\n",
    "del assmt_df['Type__c']"
   ]
  },
  {
   "cell_type": "code",
   "execution_count": null,
   "metadata": {},
   "outputs": [],
   "source": [
    "# filter for valid assessments\n",
    "assmt_df = assmt_df.loc[assmt_df['Assessment Type'].str.contains('NWEA')\n",
    "                        & (assmt_df['X0_to_300_Scaled_Score__c']>=100)]\n",
    "# pivot: one student per row, assessments as columns\n",
    "assmt_df['Key'] = assmt_df['Assessment Type'] + '_' + assmt_df['Date_Administered__c']\n",
    "assmt_df = assmt_df.pivot_table(index=['Student__c', 'Assessment Type'], columns='Date_Administered__c', values='X0_to_300_Scaled_Score__c')\n",
    "assmt_df.reset_index(inplace=True)\n",
    "# determine baseline and calculate growth (use spring where both spring and fall scores exist)\n",
    "assmt_df['Baseline'] = assmt_df[['2017-07-01', '2017-09-20']].bfill(axis=1).iloc[:, 0]\n",
    "assmt_df['Growth'] = assmt_df['2018-01-09'] - assmt_df['Baseline']\n",
    "# remove records where no baseline present\n",
    "assmt_df = assmt_df.loc[~assmt_df['Baseline'].isnull()]"
   ]
  },
  {
   "cell_type": "code",
   "execution_count": null,
   "metadata": {},
   "outputs": [],
   "source": [
    "# get current year grade level for each student\n",
    "# assumption: all students advanced 1 grade between spring and fall\n",
    "stu_sec_df = get_cysh_df('Student_Section__c', ['Student__c', 'Student_Grade__c'])\n",
    "stu_sec_df.drop_duplicates('Student__c', inplace=True)\n",
    "assmt_df = assmt_df.merge(stu_sec_df, how='left', on='Student__c')\n",
    "assmt_df['Grade at Assessment'] = assmt_df['Student_Grade__c'].astype(float) - 1\n",
    "assmt_df.loc[assmt_df['2017-07-01'].isnull(), 'Grade at Assessment'] = assmt_df['Student_Grade__c'].astype(float)\n",
    "assmt_df['Season at Assessment'] = 'Spring'\n",
    "assmt_df.loc[assmt_df['2017-07-01'].isnull(), 'Season at Assessment'] = 'Fall'"
   ]
  },
  {
   "cell_type": "code",
   "execution_count": null,
   "metadata": {
    "scrolled": true
   },
   "outputs": [],
   "source": [
    "# Investigate how prior year spring scores compare to current year fall\n",
    "# Also if students have equivalent spring and fall scores, it's likely an entry error\n",
    "#     and need to determine which date the score actually occured on\n",
    "StoF_assmt_df = assmt_df[~assmt_df['2017-07-01'].isnull() & ~assmt_df['2017-09-20'].isnull()].copy()\n",
    "StoF_assmt_df.loc[:,'StoF'] = assmt_df['2017-09-20'] - assmt_df['2017-07-01']\n",
    "StoF_assmt_df['StoF'].hist()\n",
    "# TODO: determine which schools duplicate scores came from and reach out"
   ]
  },
  {
   "cell_type": "code",
   "execution_count": null,
   "metadata": {},
   "outputs": [],
   "source": [
    "# load in targets reference (produced in 'Generate Student Targets.ipynb')\n",
    "targets_df = pd.read_csv('assessment_targets.csv')\n",
    "targets_df.loc[targets_df['Subject']=='Reading', 'Subject'] = 'NWEA - ELA'\n",
    "targets_df.loc[targets_df['Subject']=='Mathematics', 'Subject'] = 'NWEA - MATH'\n",
    "targets_df['Key'] = (targets_df['Season'] + '_' \n",
    "                     + targets_df['Subject'] + '_' \n",
    "                     + targets_df['Grade'].astype(str) + '.0_'\n",
    "                     + targets_df['Score'].astype(str) + '.0')\n",
    "\n",
    "assmt_df['Key'] = (assmt_df['Season at Assessment'] + '_' \n",
    "                   + assmt_df['Assessment Type'] + '_'\n",
    "                   + assmt_df['Grade at Assessment'].astype(str) + '_'\n",
    "                   + assmt_df['Baseline'].astype(str))                             \n",
    "assmt_df = assmt_df.merge(targets_df[['Key', 'Target Growth', 'Target Growth SD']], how='left', on='Key')\n",
    "assmt_df['Growth_v_Target'] = assmt_df['Growth'] - assmt_df['Target Growth']"
   ]
  },
  {
   "cell_type": "code",
   "execution_count": null,
   "metadata": {},
   "outputs": [],
   "source": [
    "# filter out missing assessments\n",
    "assmt_df = assmt_df.loc[~assmt_df['Growth_v_Target'].isnull()]\n",
    "# encode as 1 if target met, 0 if not\n",
    "assmt_df.loc[assmt_df.Growth_v_Target<0, 'Hit_Target?'] = 0\n",
    "assmt_df.loc[assmt_df.Growth_v_Target>=0, 'Hit_Target?'] = 1"
   ]
  },
  {
   "cell_type": "code",
   "execution_count": null,
   "metadata": {},
   "outputs": [],
   "source": [
    "assmt_df[['Student__c', 'Assessment Type', 'Growth_v_Target', 'Hit_Target?']].to_csv('assessment_growth.csv', index=False)"
   ]
  }
 ],
 "metadata": {
  "kernelspec": {
   "display_name": "Python 3",
   "language": "python",
   "name": "python3"
  },
  "language_info": {
   "codemirror_mode": {
    "name": "ipython",
    "version": 3
   },
   "file_extension": ".py",
   "mimetype": "text/x-python",
   "name": "python",
   "nbconvert_exporter": "python",
   "pygments_lexer": "ipython3",
   "version": "3.6.4"
  }
 },
 "nbformat": 4,
 "nbformat_minor": 2
}
