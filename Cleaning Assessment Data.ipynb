{
 "cells": [
  {
   "cell_type": "code",
   "execution_count": null,
   "metadata": {},
   "outputs": [],
   "source": [
    "import numpy as np\n",
    "import os\n",
    "from simple_cysh import * # includes pandas as pd\n",
    "%matplotlib inline\n",
    "os.chdir(r'Z:\\ChiPrivate\\Chicago Reports and Evaluation\\SY18\\Eval Management\\ACM_analysis')"
   ]
  },
  {
   "cell_type": "code",
   "execution_count": null,
   "metadata": {},
   "outputs": [],
   "source": [
    "init_cysh()\n",
    "\n",
    "def get_assmt_df():\n",
    "    # get all assessments with desired fields\n",
    "    df = get_cysh_df('Assesment__c', ['Id', 'Type__c', 'Date_Administered__c',\n",
    "                                            'X0_to_300_Scaled_Score__c', 'Student__c'], rename_id=True)\n",
    "    # get assessment type\n",
    "    assmt_types = get_cysh_df('Picklist_Value__c', ['Id', 'Name'])\n",
    "    assmt_types = assmt_types.rename(columns={'Id': 'Type__c', 'Name':'Assessment Type'})\n",
    "    df = df.merge(assmt_types, how='left', on='Type__c'); del df['Type__c']\n",
    "    \n",
    "    return df"
   ]
  },
  {
   "cell_type": "code",
   "execution_count": null,
   "metadata": {},
   "outputs": [],
   "source": [
    "assmt_df = get_assmt_df()\n",
    "# filter for valid assessments\n",
    "assmt_df = assmt_df.loc[assmt_df['Assessment Type'].str.contains('NWEA')\n",
    "                        & (assmt_df['X0_to_300_Scaled_Score__c']>=100)]\n",
    "# pivot: one student per row, assessments as columns\n",
    "assmt_df = assmt_df.pivot_table(index=['Student__c', 'Assessment Type'], columns='Date_Administered__c', values='X0_to_300_Scaled_Score__c')\n",
    "assmt_df.reset_index(inplace=True)\n",
    "# determine baseline and calculate growth (use spring where both spring and fall scores exist)\n",
    "assmt_df['Baseline'] = assmt_df[['2017-07-01', '2017-09-20']].bfill(axis=1).iloc[:, 0]\n",
    "assmt_df['Growth'] = assmt_df['2018-01-09'] - assmt_df['Baseline']\n",
    "# remove records where no baseline present\n",
    "assmt_df = assmt_df.loc[~assmt_df['Baseline'].isnull()]"
   ]
  },
  {
   "cell_type": "code",
   "execution_count": null,
   "metadata": {},
   "outputs": [],
   "source": [
    "# get current year grade level for each student\n",
    "# assumption: all students advanced 1 grade between spring and fall\n",
    "stu_sec_df = get_cysh_df('Student_Section__c', ['Student__c', 'Student_Grade__c'])\n",
    "stu_sec_df.drop_duplicates('Student__c', inplace=True)\n",
    "assmt_df = assmt_df.merge(stu_sec_df, how='left', on='Student__c')\n",
    "assmt_df['Grade at Assessment'] = assmt_df['Student_Grade__c'].astype(float) - 1\n",
    "assmt_df.loc[assmt_df['2017-07-01'].isnull(), 'Grade at Assessment'] = assmt_df['Student_Grade__c'].astype(float)\n",
    "assmt_df['Season at Assessment'] = 'Spring'\n",
    "assmt_df.loc[assmt_df['2017-07-01'].isnull(), 'Season at Assessment'] = 'Fall'"
   ]
  },
  {
   "cell_type": "code",
   "execution_count": null,
   "metadata": {
    "scrolled": true
   },
   "outputs": [],
   "source": [
    "# Investigate how prior year spring scores compare to current year fall\n",
    "# Also if students have equivalent spring and fall scores, it's likely an entry error\n",
    "#     and need to determine which date the score actually occured on\n",
    "StoF_assmt_df = assmt_df[~assmt_df['2017-07-01'].isnull() & ~assmt_df['2017-09-20'].isnull()].copy()\n",
    "StoF_assmt_df.loc[:,'StoF'] = assmt_df['2017-09-20'] - assmt_df['2017-07-01']\n",
    "StoF_assmt_df['StoF'].hist(bins=range(-30, 30, 1))\n",
    "StoF_0diff_df = StoF_assmt_df.loc[StoF_assmt_df['StoF']==0]\n",
    "\n",
    "# load salesforce tables\n",
    "df = get_cysh_df('Student_Section__c', ['Student__c', 'School_Reference_Id__c'])\n",
    "df.drop_duplicates('Student__c', inplace=True)\n",
    "StoF_0diff_df = StoF_0diff_df.merge(df, how='left', on='Student__c'); del df"
   ]
  },
  {
   "cell_type": "code",
   "execution_count": null,
   "metadata": {},
   "outputs": [],
   "source": [
    "# # Merge in assessment id's so they can be deleted\n",
    "# assmt_df = get_assmt_df()\n",
    "# # filter for valid assessments\n",
    "# assmt_df = assmt_df.loc[assmt_df['Assessment Type'].str.contains('NWEA')\n",
    "#                         & (assmt_df['X0_to_300_Scaled_Score__c']>=100)]\n",
    "# # pivot: one student per row, assessments as columns\n",
    "# assmt_df['Key'] = assmt_df['Student__c']+ '_' + assmt_df['Assessment Type'] + '_' + assmt_df['Date_Administered__c']\n",
    "\n",
    "# StoF_0diff_df['Key'] = StoF_0diff_df['Student__c']+ '_' + StoF_0diff_df['Assessment Type'] + '_2017-09-20'\n",
    "\n",
    "# fuller_delete = assmt_df.loc[assmt_df['Key'].isin(StoF_0diff_df.loc[StoF_0diff_df['School_Reference_Id__c'].str.contains('Fuller'), 'Key'])]\n",
    "\n",
    "# # Delete assessments\n",
    "# for index, row in fuller_delete.iterrows():\n",
    "#     try:\n",
    "#         cysh.Assesment__c.delete(row['Assesment__c'])\n",
    "#     except Exception as e:\n",
    "#         print(e)\n",
    "#         pass"
   ]
  },
  {
   "cell_type": "code",
   "execution_count": null,
   "metadata": {},
   "outputs": [],
   "source": [
    "# load in targets reference (produced in 'Generate Student Targets.ipynb')\n",
    "targets_df = pd.read_csv('assessment_targets.csv')\n",
    "targets_df.loc[targets_df['Subject']=='Reading', 'Subject'] = 'NWEA - ELA'\n",
    "targets_df.loc[targets_df['Subject']=='Mathematics', 'Subject'] = 'NWEA - MATH'\n",
    "targets_df['Key'] = (targets_df['Season'] + '_' \n",
    "                     + targets_df['Subject'] + '_' \n",
    "                     + targets_df['Grade'].astype(str) + '.0_'\n",
    "                     + targets_df['Score'].astype(str) + '.0')\n",
    "\n",
    "assmt_df['Key'] = (assmt_df['Season at Assessment'] + '_' \n",
    "                   + assmt_df['Assessment Type'] + '_'\n",
    "                   + assmt_df['Grade at Assessment'].astype(str) + '_'\n",
    "                   + assmt_df['Baseline'].astype(str))                             \n",
    "assmt_df = assmt_df.merge(targets_df[['Key', 'Target Growth', 'Target Growth SD']], how='left', on='Key')\n",
    "assmt_df['Growth_v_Target'] = assmt_df['Growth'] - assmt_df['Target Growth']"
   ]
  },
  {
   "cell_type": "code",
   "execution_count": null,
   "metadata": {},
   "outputs": [],
   "source": [
    "# # Investigate FL students who are outside the range of students eligible for FL\n",
    "# nwea_avgs = pd.read_excel('NWEA_2015_averages.xlsx')\n",
    "# nwea_avgs.loc[:, 'Subject'] = nwea_avgs['Subject'].map({'Reading':'NWEA - ELA', 'Math':'NWEA - MATH'})\n",
    "\n",
    "# for subject in ['NWEA - ELA', 'NWEA - MATH']:\n",
    "#     nwea_avgs_subj = nwea_avgs.loc[nwea_avgs['Subject']== subject]\n",
    "    \n",
    "#     for index, row in assmt_df.loc[assmt_df['Assessment Type']==subject].iterrows():\n",
    "#         if row['Season at Assessment'] == 'Spring':\n",
    "#             norm_col = 6\n",
    "#         elif row['Season at Assessment'] == 'Fall':\n",
    "#             norm_col = 2\n",
    "#         for x in range(len(nwea_avgs_subj)):\n",
    "#             if row['Baseline'] < nwea_avgs_subj.iloc[x,norm_col]:\n",
    "#                 if nwea_avgs_subj.iloc[x,1] == 'K':\n",
    "#                     assmt_df.loc[index, 'Grade Performance'] = -1\n",
    "#                 elif nwea_avgs_subj.iloc[x,1] == 1:\n",
    "#                     assmt_df.loc[index, 'Grade Performance'] = 0\n",
    "#                 else:\n",
    "#                     assmt_df.loc[index, 'Grade Performance'] = nwea_avgs_subj.iloc[x-1,1]\n",
    "#                 break\n",
    "\n",
    "# assmt_df['Grade_Performance_Diff'] = pd.to_numeric(assmt_df['Grade Performance'], errors='coerce') - pd.to_numeric(assmt_df['Grade at Assessment'], errors='coerce')\n",
    "\n",
    "# # load salesforce tables\n",
    "# student_section_df = get_cysh_df('Student_Section__c', ['Id', 'Name', 'Student_Program__c', 'Program__c', 'Section__c',\n",
    "#                                                         'Active__c', 'Enrollment_End_Date__c', 'Student__c', \n",
    "#                                                         'Student_Name__c', 'Dosage_to_Date__c', 'School_Reference_Id__c'],\n",
    "#                                  rename_id=True)\n",
    "# section_df = get_cysh_df('Section__c', ['Id', 'Intervention_Primary_Staff__c'], rename_id=True)\n",
    "# staff_df = get_cysh_df('Staff__c', ['Id', 'Name'], rename_id=True, rename_name=True)\n",
    "# program_df = get_cysh_df('Program__c', ['Id', 'Name'], rename_id=True, rename_name=True)\n",
    "\n",
    "# # merge salesforce tables\n",
    "# df = student_section_df.merge(section_df, how='left', on='Section__c')\n",
    "# df = df.merge(staff_df, how='left', left_on='Intervention_Primary_Staff__c', right_on='Staff__c')\n",
    "# df = df.merge(program_df, how='left', on='Program__c')\n",
    "\n",
    "# # group by Student_Program__c, sum ToT \n",
    "# df = df.join(df.groupby('Student_Program__c')['Dosage_to_Date__c'].sum(), how='left', on='Student_Program__c', rsuffix='_r')\n",
    "# df.drop_duplicates('Student_Program__c', inplace=True)\n",
    "\n",
    "# # filter out inactive students\n",
    "# df = df[(df['Active__c']==True)\n",
    "#         & df['Enrollment_End_Date__c'].isnull()]\n",
    "\n",
    "# df.loc[:, 'Program__c_Name'] = df['Program__c_Name'].map({'Tutoring: Literacy':'NWEA - ELA', 'Tutoring: Math':'NWEA - MATH'})\n",
    "\n",
    "# df['Key'] = df['Student__c'] + df['Program__c_Name']\n",
    "# assmt_df['Key'] = assmt_df['Student__c'] + assmt_df['Assessment Type']\n",
    "\n",
    "# df = df[['School_Reference_Id__c', 'Program__c_Name', 'Key']].merge(assmt_df, on='Key')\n",
    "\n",
    "# df.loc[df['Grade_Performance_Diff']<-4, '4 Grades/More Behind'] = 1\n",
    "# df.loc[(df['Grade_Performance_Diff']>=-4) & (df['Grade_Performance_Diff']<0), 'Within Bounds'] = 1\n",
    "# df.loc[df['Grade_Performance_Diff']>=0, 'Current Grade/More Ahead'] = 1\n",
    "\n",
    "# df.groupby(['School_Reference_Id__c'])['4 Grades/More Behind', 'Within Bounds', 'Current Grade/More Ahead'].count()\n",
    "\n",
    "# df['Grade_Performance_Diff'].hist()\n",
    "\n",
    "# df.to_csv('assessment_grade_performance.csv')"
   ]
  },
  {
   "cell_type": "code",
   "execution_count": null,
   "metadata": {},
   "outputs": [],
   "source": [
    "# filter out missing assessments\n",
    "assmt_df = assmt_df.loc[~assmt_df['Growth_v_Target'].isnull()]\n",
    "# encode as 1 if target met, 0 if not\n",
    "assmt_df.loc[assmt_df.Growth_v_Target<0, 'Hit_Target?'] = 0\n",
    "assmt_df.loc[assmt_df.Growth_v_Target>=0, 'Hit_Target?'] = 1"
   ]
  },
  {
   "cell_type": "code",
   "execution_count": null,
   "metadata": {},
   "outputs": [],
   "source": [
    "assmt_df[['Student__c', 'Assessment Type', 'Growth_v_Target', 'Hit_Target?']].to_csv('assessment_growth.csv', index=False)"
   ]
  }
 ],
 "metadata": {
  "kernelspec": {
   "display_name": "Python 3",
   "language": "python",
   "name": "python3"
  },
  "language_info": {
   "codemirror_mode": {
    "name": "ipython",
    "version": 3
   },
   "file_extension": ".py",
   "mimetype": "text/x-python",
   "name": "python",
   "nbconvert_exporter": "python",
   "pygments_lexer": "ipython3",
   "version": "3.6.8"
  }
 },
 "nbformat": 4,
 "nbformat_minor": 2
}
