{
 "cells": [
  {
   "cell_type": "code",
   "execution_count": null,
   "metadata": {
    "scrolled": false
   },
   "outputs": [],
   "source": [
    "from fuzzywuzzy import fuzz, process\n",
    "import os\n",
    "import pathlib as Path\n",
    "from simple_cysh import *\n",
    "#%matplotlib inline\n",
    "os.chdir(r'Z:\\ChiPrivate\\Chicago Reports and Evaluation\\SY18\\Eval Management\\ACM_analysis')"
   ]
  },
  {
   "cell_type": "code",
   "execution_count": null,
   "metadata": {},
   "outputs": [],
   "source": [
    "heat_map_folders = [\"Pride Heat Maps_ Coaching Logs\",\n",
    "                    \"Spirit Heat Maps_ Coaching Logs\",\n",
    "                    \"Purpose Heat Maps_ Coaching Logs\",\n",
    "                    \"Heat Maps _ Coaching Logs\"]\n",
    "\n",
    "# for x in os.walk(\"Z:\\\\Heat Maps _ Coaching Logs\"):\n",
    "#     print(x)\n",
    "coach_xlsx_paths = eval(open('OC_paths.txt').read())\n",
    "\n",
    "sheet_months = ['Oct','Nov','Dec','Jan','Feb','March','April','May']\n",
    "sheet_months_clean = ['October 2017','November 2017','December 2017','January 2018','February 2018','March 2018','April 2018','May 2018']\n",
    "sheet_months_dict = dict(zip(sheet_months, sheet_months_clean))\n",
    "\n",
    "expected_cols = [('Month', ''),\n",
    "                 ('ACM', ''),\n",
    "                 ('        Effective Tutoring \\xa0 \\xa0 \\xa0 \\xa0 \\xa0     \\xa0(ELA and Math Strategies)','Rating'),\n",
    "                 ('        Effective Tutoring \\xa0 \\xa0 \\xa0 \\xa0 \\xa0     \\xa0(ELA and Math Strategies)','Rubric Note'),\n",
    "                 ('Application of Feedback and Training', 'Rating'),\n",
    "                 ('Application of Feedback and Training', 'Rubric Note'),\n",
    "                 ('Effective Student Engagement & Behavior Management', 'Rating'),\n",
    "                 ('Effective Student Engagement & Behavior Management', 'Rubric Note'),\n",
    "                 ('Lesson Planning and Preparation', 'Rating'),\n",
    "                 ('Lesson Planning and Preparation', 'Rubric Note'),\n",
    "                 ('Student Progress Monitoring', 'Rating'),\n",
    "                 ('Student Progress Monitoring', 'Rubric Note')]\n",
    "\n",
    "declare_cols = ['ACM',\n",
    "                'Plan Rating',\n",
    "                'Plan Rubric Note',\n",
    "                'ET Rating',\n",
    "                'ET Rubric Note',\n",
    "                'ESE Rating',\n",
    "                'ESE Rubric Note',\n",
    "                'SPM Rating',\n",
    "                'SPM Rubric Note',\n",
    "                'Learn Rating',\n",
    "                'Learn Rubric Note',\n",
    "                'Month',\n",
    "                'Folder']"
   ]
  },
  {
   "cell_type": "code",
   "execution_count": null,
   "metadata": {},
   "outputs": [],
   "source": [
    "# Gather heatmap data\n",
    "# want to flag which docs have headers out of order, or named different than expected\n",
    "d = []\n",
    "for filepath in coach_xlsx_paths:\n",
    "    # use pd.ExcelFile instead of pd.read_excel in order to use variable sheetnames\n",
    "    with pd.ExcelFile(filepath) as xl:\n",
    "        for sheet in list(set(xl.sheet_names) & set(sheet_months)):\n",
    "            # Returns ordered dict\n",
    "            heatmap = pd.read_excel(xl, header=[2,3], \n",
    "                                    sheet_name=sheet, \n",
    "                                    usecols=14, index_col=None)\n",
    "            heatmap = heatmap.reset_index()\n",
    "            heatmap = heatmap.rename(columns={heatmap.columns.get_level_values(0).unique()[0]:'ACM'}, level=0)\n",
    "            heatmap['Month'] = sheet\n",
    "            missing_cols = set(expected_cols) - set(heatmap)\n",
    "#             print(f\"{Path.WindowsPath(filepath).parts[-2]}: {sheet}: {missing_cols}\")\n",
    "            # Run this line to rename cols only if they match our expected names\n",
    "#             heatmap = heatmap[[column for column in list(heatmap) if column in expected_cols]]\n",
    "            # Remove columns containing \"Color\"\n",
    "            heatmap = heatmap[[column for column in list(heatmap) if str(column).find(\"Color\") == -1]]\n",
    "            heatmap['Folder'] = Path.WindowsPath(filepath).parts[-2]\n",
    "            heatmap = heatmap[0:13]\n",
    "            # Run this line to rename cols assuming universal position\n",
    "            heatmap.columns = declare_cols\n",
    "            d.append(heatmap)\n",
    "            \n",
    "raw_heatmaps_df = pd.concat(d, ignore_index=True)\n",
    "\n",
    "heatmaps_df.to_csv('OC_raw.csv', index=False)"
   ]
  },
  {
   "cell_type": "code",
   "execution_count": null,
   "metadata": {
    "scrolled": true
   },
   "outputs": [],
   "source": [
    "# Load from offline copy\n",
    "heatmaps_df = pd.read_csv('OC_raw.csv')\n",
    "heatmaps_df = heatmaps_df.loc[~heatmaps_df['ACM'].isnull() &\n",
    "                              (heatmaps_df['ACM']!='LLP Ratings') &\n",
    "                              ~heatmaps_df['Plan Rating'].isnull() &\n",
    "                              ~heatmaps_df['ET Rating'].isnull()]\n",
    "heatmaps_df['Folder'] = heatmaps_df['Folder'].str.replace('Chicago ','')\n",
    "heatmaps_df['Folder'] = heatmaps_df['Folder'].str.replace('Academy HS','Chicago Academy HS')\n",
    "heatmaps_df['Month'].replace(sheet_months_dict, inplace=True)\n",
    "heatmaps_df.loc[:, 'Month'] = pd.to_datetime(heatmaps_df['Month'])\n",
    "\n",
    "# Load schools from salesforce\n",
    "account_df = get_cysh_df('Account', ['Id', 'Name'])\n",
    "account_df.rename(columns={'Id':'Organization__c', 'Name':'School'}, inplace=True)\n",
    "\n",
    "d = []\n",
    "for folder_name in set(heatmaps_df['Folder']):\n",
    "    match = process.extract(folder_name, set(account_df['School']), scorer=fuzz.token_set_ratio, limit=1)\n",
    "    match = [folder_name] + [x for tup in match for x in tup]\n",
    "    d.append(match)\n",
    "df = pd.DataFrame(d, columns=['Folder', 'School', 'Match_Score'])\n",
    "df.head()\n",
    "\n",
    "# merge\n",
    "heatmaps_df = heatmaps_df.merge(df[['Folder', 'School']], how='left', on='Folder')\n",
    "heatmaps_df['Key'] = heatmaps_df['ACM'] + heatmaps_df['School']\n",
    "\n",
    "# Load staff from salesforce, merge in school name\n",
    "staff_df = get_cysh_df('Staff__c', ['Id', 'Name', 'Site__c', 'Organization__c', 'Reference_Id__c', 'Role__c'])\n",
    "acm_df = staff_df[(staff_df['Site__c']==\"Chicago\") & staff_df['Role__c'].str.contains('Corps Member')]\n",
    "acm_df = acm_df.merge(account_df, how='left', on='Organization__c')\n",
    "\n",
    "# iterate by team, search for matches only within team\n",
    "d=[]\n",
    "for school in set(heatmaps_df['School']):\n",
    "    raw_acm_names = set(heatmaps_df['ACM'].loc[heatmaps_df['School']==school])\n",
    "    legit_acm_names = set(acm_df['Name'].loc[acm_df['School']==school])\n",
    "    for name in raw_acm_names:\n",
    "        match = process.extract(name, legit_acm_names, limit=2)\n",
    "        match = [name] + [x for tup in match for x in tup] + [school]\n",
    "        d.append(match)\n",
    "matches_df = pd.DataFrame(d, columns=['ACM_raw', 'ACM', 'Match1_Score', 'ACM2', 'Match2_Score', 'School'])\n",
    "matches_df['Key'] = matches_df['ACM_raw'] + matches_df['School']\n",
    "\n",
    "del heatmaps_df['ACM']\n",
    "\n",
    "heatmaps_df = heatmaps_df.merge(matches_df[['ACM', 'Key']], how='left', on='Key')\n",
    "\n",
    "del heatmaps_df['Key'], heatmaps_df['Folder']"
   ]
  },
  {
   "cell_type": "code",
   "execution_count": null,
   "metadata": {},
   "outputs": [],
   "source": [
    "sch_ref_path = r\"Z:\\ChiPrivate\\Chicago Data and Evaluation\\SY18\\SY18 Team Placement\\SY18 FINAL Team Placements.xlsx\"\n",
    "sch_ref_df = pd.read_excel(sch_ref_path, sheet_name=\"School Data\")\n",
    "# Merge in Coach\n",
    "heatmaps_df = heatmaps_df.merge(sch_ref_df[['School', 'Coach']], on='School')\n",
    "\n",
    "# staff_df has 'ID__c' but it doesn't match to raw survey ID\n",
    "staff_df = get_cysh_df('Staff__c', ['Id', 'Name'], \"Site__c = 'Chicago'\", rename_id=True)\n",
    "# merge in ACM ID\n",
    "heatmaps_df = heatmaps_df.merge(staff_df, left_on='ACM', right_on='Name', how='left')"
   ]
  },
  {
   "cell_type": "code",
   "execution_count": null,
   "metadata": {},
   "outputs": [],
   "source": [
    "heatmaps_df = heatmaps_df[['Staff__c',\n",
    "                           'ACM',\n",
    "                           'School',\n",
    "                           'Coach',\n",
    "                           'Month',\n",
    "                           'Plan Rating',\n",
    "                           'Plan Rubric Note',\n",
    "                           'ET Rating',\n",
    "                           'ET Rubric Note',\n",
    "                           'ESE Rating',\n",
    "                           'ESE Rubric Note',\n",
    "                           'SPM Rating',\n",
    "                           'SPM Rubric Note',\n",
    "                           'Learn Rating',\n",
    "                           'Learn Rubric Note']]\n",
    "\n",
    "# heatmaps_df.to_excel(r\"Z:\\ChiPrivate\\Chicago Reports and Evaluation\\SY18\\SY18 O&C Heat Map Rollup.xlsx\",\n",
    "#                      index=False, freeze_panes=(1,0))\n",
    "heatmaps_df.to_csv('OC_clean.csv', index=False)"
   ]
  },
  {
   "cell_type": "code",
   "execution_count": null,
   "metadata": {},
   "outputs": [],
   "source": [
    "heatmaps_df = pd.read_csv('OC_clean.csv')\n",
    "heatmaps_df = heatmaps_df.loc[heatmaps_df.Month < '2018-01-01']"
   ]
  },
  {
   "cell_type": "code",
   "execution_count": null,
   "metadata": {},
   "outputs": [],
   "source": [
    "cols = [column for column in heatmaps_df.columns if 'Rating' in column]"
   ]
  },
  {
   "cell_type": "code",
   "execution_count": null,
   "metadata": {
    "scrolled": true
   },
   "outputs": [],
   "source": [
    "# Normalize each Coaches' responses (for each observation, subtract mean and divide by SD)\n",
    "for coach in heatmaps_df['Coach'].unique():\n",
    "    print('')\n",
    "    print(coach)\n",
    "    for col in cols:\n",
    "        descriptives = heatmaps_df.loc[heatmaps_df.Coach==coach, col].describe()\n",
    "        print(col)\n",
    "        print(f\"mean: {descriptives['mean']}\")\n",
    "        print(f\" std: {descriptives['mean']}\")\n",
    "        heatmaps_df.loc[heatmaps_df.Coach==coach, col+'_norm'] = (heatmaps_df.loc[heatmaps_df.Coach==coach, col] - descriptives['mean']) / descriptives['std']"
   ]
  },
  {
   "cell_type": "code",
   "execution_count": null,
   "metadata": {},
   "outputs": [],
   "source": [
    "# Aggregate across months\n",
    "heatmaps_agg = heatmaps_df.groupby('Staff__c').mean().reset_index()"
   ]
  },
  {
   "cell_type": "code",
   "execution_count": null,
   "metadata": {},
   "outputs": [],
   "source": [
    "heatmaps_agg.to_csv('OC_clean_agg.csv', index=False)"
   ]
  },
  {
   "cell_type": "markdown",
   "metadata": {},
   "source": [
    "## Next Steps\n",
    "* Aggregate across categories?\n",
    "* Clean other sheets? Not important, would only gain actual date of observation rather than month"
   ]
  }
 ],
 "metadata": {
  "kernelspec": {
   "display_name": "Python 3",
   "language": "python",
   "name": "python3"
  },
  "language_info": {
   "codemirror_mode": {
    "name": "ipython",
    "version": 3
   },
   "file_extension": ".py",
   "mimetype": "text/x-python",
   "name": "python",
   "nbconvert_exporter": "python",
   "pygments_lexer": "ipython3",
   "version": "3.6.4"
  }
 },
 "nbformat": 4,
 "nbformat_minor": 2
}
