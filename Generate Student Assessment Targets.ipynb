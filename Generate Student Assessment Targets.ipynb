{
 "cells": [
  {
   "cell_type": "markdown",
   "metadata": {},
   "source": [
    "# Generate Student Targets\n",
    "\n",
    "Target score calculation is performed through a calculator obtained from: https://aos98.files.wordpress.com/2016/11/asg-calculator-for-2015-norms.xlsx\n",
    "\n",
    "This method calculates target scores for all grade levels 3 to 8, and all starting scores from 100 to 350. Starting weeks of instruction were set to 2, and weeks of instruction at time of winter assessment were set to 16. I do not have access to the exact assessment date for each student, so weeks of instruction was based of the date 1/9/2018, which is the midpoint in the CPS district winter assessment window (12/11/2017 - 01/26/2018). Students do not take a fall assessment unless they have no prior year spring assessment on record. Regardless of actual baseline assessment date, performance will be assessed on the targets calculated here."
   ]
  },
  {
   "cell_type": "code",
   "execution_count": null,
   "metadata": {},
   "outputs": [],
   "source": [
    "import pandas as pd\n",
    "import time\n",
    "import xlwings as xw"
   ]
  },
  {
   "cell_type": "code",
   "execution_count": null,
   "metadata": {},
   "outputs": [],
   "source": [
    "os.chdir(r'Z:\\ChiPrivate\\Chicago Reports and Evaluation\\SY18\\Eval Management\\ACM_analysis')"
   ]
  },
  {
   "cell_type": "code",
   "execution_count": null,
   "metadata": {},
   "outputs": [],
   "source": [
    "# load workbook with target calculator\n",
    "wb = xw.Book('ASG Calculator for 2015 Norms.xlsx')\n",
    "sht = wb.sheets['ASG_Calculator']"
   ]
  },
  {
   "cell_type": "code",
   "execution_count": null,
   "metadata": {},
   "outputs": [],
   "source": [
    "# only calc for Elem students. HS do not take assessment.\n",
    "grade_levels = ['3rd', '4th', '5th', '6th', '7th', '8th']\n",
    "# weeks of instruction at first assessment (prior spring testing mindow May 15 - June 16 2017)\n",
    "start_weeks_list = [32, 2]\n",
    "# weeks of instruction at second assessment (winter in this case)\n",
    "sht.range('G14').value = 16\n",
    "\n",
    "d = []\n",
    "for start_weeks in start_weeks_list:\n",
    "    sht.range('F14').value = start_weeks\n",
    "    if start_weeks == 32:\n",
    "        season = 'Spring'\n",
    "    elif start_weeks == 2:\n",
    "        season = 'Fall'\n",
    "    for subject in ['Reading', 'Mathematics']:\n",
    "        sht.range('C10').value = subject\n",
    "        for grade in grade_levels:\n",
    "            sht.range('F10').value = grade\n",
    "            for score in range(100, 351):\n",
    "                sht.range('F15').value = score\n",
    "                time.sleep(0.33)\n",
    "                growth = sht.range('F26').value\n",
    "                growth_sd = sht.range('F27').value\n",
    "                d.append([season, subject, grade[:-2], score, growth, growth_sd])\n",
    "\n",
    "df = pd.DataFrame(d, columns=['Season', 'Subject', 'Grade', 'Score', 'Target Growth', 'Target Growth SD'])\n",
    "\n",
    "df.to_csv('assessment_targets_spring_to_winter.csv', index=False)\n",
    "\n",
    "df.head()"
   ]
  }
 ],
 "metadata": {
  "kernelspec": {
   "display_name": "Python 3",
   "language": "python",
   "name": "python3"
  },
  "language_info": {
   "codemirror_mode": {
    "name": "ipython",
    "version": 3
   },
   "file_extension": ".py",
   "mimetype": "text/x-python",
   "name": "python",
   "nbconvert_exporter": "python",
   "pygments_lexer": "ipython3",
   "version": "3.6.4"
  }
 },
 "nbformat": 4,
 "nbformat_minor": 2
}
