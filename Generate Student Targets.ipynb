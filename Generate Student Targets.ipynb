{
 "cells": [
  {
   "cell_type": "code",
   "execution_count": 9,
   "metadata": {},
   "outputs": [],
   "source": [
    "import pandas as pd\n",
    "import time\n",
    "import xlwings as xw"
   ]
  },
  {
   "cell_type": "code",
   "execution_count": 1,
   "metadata": {},
   "outputs": [],
   "source": [
    "# target calculator obtained from:\n",
    "# https://aos98.files.wordpress.com/2016/11/asg-calculator-for-2015-norms.xlsx\n",
    "wb = xw.Book('privatedata/ASG Calculator for 2015 Norms.xlsx')\n",
    "sht = wb.sheets['ASG_Calculator']"
   ]
  },
  {
   "cell_type": "code",
   "execution_count": 5,
   "metadata": {},
   "outputs": [],
   "source": [
    "# only calc for Elem students. HS do not take assessment. \n",
    "grade_levels = ['3rd', '4th', '5th', '6th', '7th', '8th']"
   ]
  },
  {
   "cell_type": "code",
   "execution_count": null,
   "metadata": {},
   "outputs": [],
   "source": [
    "d = []\n",
    "for subject in ['Reading', 'Mathematics']:\n",
    "    sht.range('C10').value = subject\n",
    "    for grade in grade_levels:\n",
    "        sht.range('F10').value = grade\n",
    "        for score in range(100, 351):\n",
    "            sht.range('F15').value = score\n",
    "            time.sleep(.33)\n",
    "            growth = sht.range('F26').value\n",
    "            growth_sd = sht.range('F27').value\n",
    "            d.append([subject, grade[:-2], score, growth, growth_sd])"
   ]
  },
  {
   "cell_type": "code",
   "execution_count": null,
   "metadata": {},
   "outputs": [],
   "source": [
    "df = pd.DataFrame(d, columns=['Subject', 'Grade', 'Score', 'Growth', 'Growth_SD'])"
   ]
  }
 ],
 "metadata": {
  "kernelspec": {
   "display_name": "Python 3",
   "language": "python",
   "name": "python3"
  },
  "language_info": {
   "codemirror_mode": {
    "name": "ipython",
    "version": 3
   },
   "file_extension": ".py",
   "mimetype": "text/x-python",
   "name": "python",
   "nbconvert_exporter": "python",
   "pygments_lexer": "ipython3",
   "version": "3.6.4"
  }
 },
 "nbformat": 4,
 "nbformat_minor": 2
}
