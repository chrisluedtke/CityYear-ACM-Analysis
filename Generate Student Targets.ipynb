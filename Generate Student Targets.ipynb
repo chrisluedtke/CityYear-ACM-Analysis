{
 "cells": [
  {
   "attachments": {},
   "cell_type": "markdown",
   "metadata": {},
   "source": [
    "# Generate Student Targets\n",
    "\n",
    "Target score calculation is performed through a calculator obtained from: https://aos98.files.wordpress.com/2016/11/asg-calculator-for-2015-norms.xlsx\n",
    "\n",
    "This method calculates target scores for all grade levels 3 to 8, and all starting scores from 100 to 350. Starting weeks of instruction were set to 2, and weeks of instruction at time of winter assessment were set to 16. I do not have access to the exact assessment date for each student, so weeks of instruction was based of the date 1/9/2018, which is the midpoint in the CPS district winter assessment window (12/11/2017 - 01/26/2018). Students do not take a fall assessment unless they have no prior year spring assessment on record. Regardless of actual baseline assessment date, performance will be assessed on the targets calculated here."
   ]
  },
  {
   "cell_type": "code",
   "execution_count": null,
   "metadata": {},
   "outputs": [],
   "source": [
    "import pandas as pd\n",
    "import time\n",
    "import xlwings as xw"
   ]
  },
  {
   "cell_type": "code",
   "execution_count": null,
   "metadata": {},
   "outputs": [],
   "source": [
    "wb = xw.Book('privatedata/ASG Calculator for 2015 Norms.xlsx')\n",
    "sht = wb.sheets['ASG_Calculator']"
   ]
  },
  {
   "cell_type": "code",
   "execution_count": null,
   "metadata": {},
   "outputs": [],
   "source": [
    "# only calc for Elem students. HS do not take assessment.\n",
    "grade_levels = ['3rd', '4th', '5th', '6th', '7th', '8th']"
   ]
  },
  {
   "cell_type": "code",
   "execution_count": null,
   "metadata": {},
   "outputs": [],
   "source": [
    "sht.range('F14').value = 2\n",
    "sht.range('G14').value = 16\n",
    "\n",
    "d = []\n",
    "for subject in ['Reading', 'Mathematics']:\n",
    "    sht.range('C10').value = subject\n",
    "    for grade in grade_levels:\n",
    "        sht.range('F10').value = grade\n",
    "        for score in range(100, 351):\n",
    "            sht.range('F15').value = score\n",
    "            time.sleep(.33)\n",
    "            growth = sht.range('F26').value\n",
    "            growth_sd = sht.range('F27').value\n",
    "            d.append([subject, grade[:-2], score, growth, growth_sd])\n",
    "\n",
    "df = pd.DataFrame(d, columns=['Subject', 'Grade', 'Score', 'Growth', 'Growth_SD'])\n",
    "\n",
    "df.to_csv('privatedata/assessment_targets_fall_to_winter.csv', index=False)"
   ]
  },
  {
   "cell_type": "code",
   "execution_count": 17,
   "metadata": {},
   "outputs": [
    {
     "data": {
      "text/html": [
       "<div>\n",
       "<style scoped>\n",
       "    .dataframe tbody tr th:only-of-type {\n",
       "        vertical-align: middle;\n",
       "    }\n",
       "\n",
       "    .dataframe tbody tr th {\n",
       "        vertical-align: top;\n",
       "    }\n",
       "\n",
       "    .dataframe thead th {\n",
       "        text-align: right;\n",
       "    }\n",
       "</style>\n",
       "<table border=\"1\" class=\"dataframe\">\n",
       "  <thead>\n",
       "    <tr style=\"text-align: right;\">\n",
       "      <th></th>\n",
       "      <th>Subject</th>\n",
       "      <th>Grade</th>\n",
       "      <th>Score</th>\n",
       "      <th>Growth</th>\n",
       "      <th>Growth_SD</th>\n",
       "    </tr>\n",
       "  </thead>\n",
       "  <tbody>\n",
       "    <tr>\n",
       "      <th>0</th>\n",
       "      <td>Reading</td>\n",
       "      <td>3</td>\n",
       "      <td>100</td>\n",
       "      <td>16.204618</td>\n",
       "      <td>5.281536</td>\n",
       "    </tr>\n",
       "    <tr>\n",
       "      <th>1</th>\n",
       "      <td>Reading</td>\n",
       "      <td>3</td>\n",
       "      <td>101</td>\n",
       "      <td>16.099158</td>\n",
       "      <td>5.281536</td>\n",
       "    </tr>\n",
       "    <tr>\n",
       "      <th>2</th>\n",
       "      <td>Reading</td>\n",
       "      <td>3</td>\n",
       "      <td>102</td>\n",
       "      <td>15.993698</td>\n",
       "      <td>5.281536</td>\n",
       "    </tr>\n",
       "    <tr>\n",
       "      <th>3</th>\n",
       "      <td>Reading</td>\n",
       "      <td>3</td>\n",
       "      <td>103</td>\n",
       "      <td>15.888239</td>\n",
       "      <td>5.281536</td>\n",
       "    </tr>\n",
       "    <tr>\n",
       "      <th>4</th>\n",
       "      <td>Reading</td>\n",
       "      <td>3</td>\n",
       "      <td>104</td>\n",
       "      <td>15.782779</td>\n",
       "      <td>5.281536</td>\n",
       "    </tr>\n",
       "  </tbody>\n",
       "</table>\n",
       "</div>"
      ],
      "text/plain": [
       "   Subject Grade  Score     Growth  Growth_SD\n",
       "0  Reading     3    100  16.204618   5.281536\n",
       "1  Reading     3    101  16.099158   5.281536\n",
       "2  Reading     3    102  15.993698   5.281536\n",
       "3  Reading     3    103  15.888239   5.281536\n",
       "4  Reading     3    104  15.782779   5.281536"
      ]
     },
     "execution_count": 17,
     "metadata": {},
     "output_type": "execute_result"
    }
   ],
   "source": [
    "df.head()"
   ]
  }
 ],
 "metadata": {
  "kernelspec": {
   "display_name": "Python 3",
   "language": "python",
   "name": "python3"
  },
  "language_info": {
   "codemirror_mode": {
    "name": "ipython",
    "version": 3
   },
   "file_extension": ".py",
   "mimetype": "text/x-python",
   "name": "python",
   "nbconvert_exporter": "python",
   "pygments_lexer": "ipython3",
   "version": "3.6.4"
  }
 },
 "nbformat": 4,
 "nbformat_minor": 2
}
