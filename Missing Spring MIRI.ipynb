{
 "cells": [
  {
   "cell_type": "code",
   "execution_count": null,
   "metadata": {},
   "outputs": [],
   "source": [
    "import numpy as np\n",
    "import os\n",
    "from simple_cysh import * # includes pandas as pd"
   ]
  },
  {
   "cell_type": "code",
   "execution_count": null,
   "metadata": {},
   "outputs": [],
   "source": [
    "program_df = get_cysh_df('Program__c', ['Id', 'Name'], \n",
    "                         rename_id=True)\n",
    "program_df.rename(columns={'Name': 'Program'},inplace=True)\n",
    "\n",
    "# get sections, merge in program name, filter for sections of interest\n",
    "section_df = get_cysh_df('Section__c', ['Id', 'School__c', 'Program__c', 'In_After_School__c'], \n",
    "                         rename_id=True, \n",
    "#                          where=\"Active__c = True\"\n",
    "                        )\n",
    "section_df = section_df.merge(program_df, on='Program__c', how='left')\n",
    "section_df = section_df.loc[section_df['Program'].isin([\n",
    "    'Coaching: Attendance', \n",
    "    'Tutoring: Literacy', \n",
    "    'Tutoring: Math',\n",
    "    'SEL Check In Check Out',\n",
    "])]\n",
    "\n",
    "stu_sec_df = get_cysh_df('Student_Section__c', ['Id', 'Section__c', 'Student__c', 'Student_Id__c', \n",
    "                                                'Student_Name__c', 'Student_Grade__c', \n",
    "                                                'Amount_of_Time__c', 'Intervention_Enrollment_Start_Date__c', \n",
    "                                                'Enrollment_End_Date__c', 'Section_Exit_Reason__c'],\n",
    "                         rename_id=True, \n",
    "#                          where=\"Active__c = True\"\n",
    "                        )\n",
    "stu_sec_df = stu_sec_df.loc[~stu_sec_df['Student_Name__c'].str.contains('DELETE')]\n",
    "stu_lastnames = get_cysh_df('Student__c', ['Id', 'Student_Last_Name__c'], rename_id=True)\n",
    "stu_sec_df = stu_sec_df.merge(stu_lastnames, how='left', on='Student__c')\n",
    "\n",
    "# Get IA's for each student, and include Program to match with sections on Student_Program\n",
    "stud_ia_df = get_cysh_df('Indicator_Area_Student__c', ['Id', 'Student__c', 'Indicator_Area__c'], \n",
    "                         rename_id=True, \n",
    "#                          where=\"Active__c = True\"\n",
    "                        )\n",
    "ia_df = get_cysh_df('Indicator_Area__c', ['Id', 'Indicator_Area_Type__c'], rename_id=True)\n",
    "ia_df['Program'] = ia_df['Indicator_Area_Type__c'].map({'Attendance':'Coaching: Attendance',\n",
    "                                                        'Behavior':'SEL Check In Check Out',\n",
    "                                                        'Math':'Tutoring: Math',\n",
    "                                                        'ELA/Literacy':'Tutoring: Literacy'\n",
    "                                                       })\n",
    "\n",
    "ia_df = ia_df.merge(program_df, how='left', on='Program')\n",
    "stud_ia_df = stud_ia_df.merge(ia_df, on='Indicator_Area__c')\n",
    "stud_ia_df['Student_Program'] = stud_ia_df['Student__c'] + \"_\" + stud_ia_df['Program__c']\n",
    "\n",
    "school_df = get_cysh_df('Account', ['Id', 'Name'])\n",
    "school_df.rename(columns={'Id':'School__c', 'Name':'School'}, inplace=True)"
   ]
  },
  {
   "cell_type": "code",
   "execution_count": null,
   "metadata": {},
   "outputs": [],
   "source": [
    "# merges\n",
    "df = section_df.merge(school_df, how='left', on='School__c')\n",
    "df = df.merge(stu_sec_df, on='Section__c')\n",
    "df['Student_Program'] = df['Student__c'] + \"_\" + df['Program__c']\n",
    "# filter out extended learning after ToT sum\n",
    "df = df.loc[df['In_After_School__c']!='Extended Learning']\n",
    "df = df.merge(stud_ia_df[['Student_Program', 'Indicator_Area__c', 'Indicator_Area_Type__c']], how='left', on='Student_Program')\n",
    "df.drop_duplicates('Student_Program', inplace=True)\n",
    "# filter for IAs\n",
    "df = df.loc[~df['Indicator_Area__c'].isnull()]"
   ]
  },
  {
   "cell_type": "code",
   "execution_count": null,
   "metadata": {},
   "outputs": [],
   "source": [
    "\n",
    "df[['Student__c', 'Indicator_Area_Type__c']].pivot_table(index='Student__c', columns='Indicator_Area_Type__c', aggfunc=len, fill_value=np.nan)"
   ]
  },
  {
   "cell_type": "code",
   "execution_count": null,
   "metadata": {},
   "outputs": [],
   "source": [
    "miri = pd.read_csv('Z:\\ChiPrivate\\Chicago Reports and Evaluation\\SY18\\MIRI SAM Exports\\SAM_EXP_CSV_20180522152820906.csv')\n",
    "\n",
    "cols = [\n",
    "    'SIS_ID',\n",
    "    'SMI_TEST_DATE_1',\n",
    "    'SMI_LAST_QUANTILE_DATE',\n",
    "    'SRI_TEST_DATE_1',\n",
    "    'SRI_LAST_LEXILE_DATE',\n",
    "]\n",
    "\n",
    "miri = miri[cols].copy()\n",
    "miri['SMI_LAST_QUANTILE_DATE'] = pd.to_datetime(miri['SMI_LAST_QUANTILE_DATE'])\n",
    "miri['SRI_LAST_LEXILE_DATE'] = pd.to_datetime(miri['SRI_LAST_LEXILE_DATE'])"
   ]
  },
  {
   "cell_type": "code",
   "execution_count": null,
   "metadata": {},
   "outputs": [],
   "source": [
    "df = df.merge(miri, left_on='Student_Id__c', right_on='SIS_ID', how='left')\n",
    "\n",
    "df.loc[(df['Program'] == 'Tutoring: Math')\n",
    "       & ~df['SMI_TEST_DATE_1'].isnull()\n",
    "       & (df['SMI_LAST_QUANTILE_DATE'] < '04-01-2018'), 'No_Spring_MIRI'] = True\n",
    "df.loc[(df['Program'] == 'Tutoring: Literacy')\n",
    "       & ~df['SRI_TEST_DATE_1'].isnull()\n",
    "       & (df['SRI_LAST_LEXILE_DATE'] < '04-01-2018'), 'No_Spring_MIRI'] = True\n",
    "\n",
    "df = df.loc[df['No_Spring_MIRI'] == True]\n",
    "\n",
    "df = df.loc[~df['School'].str.contains('Collins')]"
   ]
  },
  {
   "cell_type": "code",
   "execution_count": null,
   "metadata": {},
   "outputs": [],
   "source": [
    "df[['School', 'Student_Id__c', 'Program', 'SMI_TEST_DATE_1', 'SMI_LAST_QUANTILE_DATE', 'SRI_TEST_DATE_1', 'SRI_LAST_LEXILE_DATE']].to_excel('Z:\\ChiPrivate\\Chicago Reports and Evaluation\\SY18\\Students Missing Spring MIRI.xlsx', index=False)"
   ]
  }
 ],
 "metadata": {
  "kernelspec": {
   "display_name": "Python 3",
   "language": "python",
   "name": "python3"
  },
  "language_info": {
   "codemirror_mode": {
    "name": "ipython",
    "version": 3
   },
   "file_extension": ".py",
   "mimetype": "text/x-python",
   "name": "python",
   "nbconvert_exporter": "python",
   "pygments_lexer": "ipython3",
   "version": "3.6.8"
  }
 },
 "nbformat": 4,
 "nbformat_minor": 2
}
