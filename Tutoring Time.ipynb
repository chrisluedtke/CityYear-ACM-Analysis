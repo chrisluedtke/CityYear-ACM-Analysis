{
 "cells": [
  {
   "cell_type": "code",
   "execution_count": 1,
   "metadata": {},
   "outputs": [],
   "source": [
    "from simple_cysh import * # includes pandas as pd"
   ]
  },
  {
   "cell_type": "code",
   "execution_count": 24,
   "metadata": {},
   "outputs": [],
   "source": [
    "cysh = init_cysh()"
   ]
  },
  {
   "cell_type": "code",
   "execution_count": 25,
   "metadata": {},
   "outputs": [
    {
     "data": {
      "text/plain": [
       "['attributes',\n",
       " 'Id',\n",
       " 'IsDeleted',\n",
       " 'Name',\n",
       " 'CreatedDate',\n",
       " 'CreatedById',\n",
       " 'LastModifiedDate',\n",
       " 'LastModifiedById',\n",
       " 'SystemModstamp',\n",
       " 'LastViewedDate',\n",
       " 'LastReferencedDate',\n",
       " 'Intervention_Session__c',\n",
       " 'Student_Section__c',\n",
       " 'Amount_of_Time__c',\n",
       " 'Intervention_Session_Date__c',\n",
       " 'Program_Name__c',\n",
       " 'Program__c',\n",
       " 'Related_Student_s_Name__c',\n",
       " 'Section_Name__c',\n",
       " 'Session_DOW__c',\n",
       " 'Student_Reference_ID__c',\n",
       " 'Primary_Skill__c']"
      ]
     },
     "execution_count": 25,
     "metadata": {},
     "output_type": "execute_result"
    }
   ],
   "source": [
    "# determine fields used within object\n",
    "single_tut_sess = cysh.Intervention_Session_Result__c.get('a0f1a00000CyUX5AAN')\n",
    "single_tut_sess = pd.DataFrame(list(single_tut_sess.items()))\n",
    "list(single_tut_sess.loc[~single_tut_sess[1].isnull()][0])"
   ]
  },
  {
   "cell_type": "code",
   "execution_count": null,
   "metadata": {},
   "outputs": [],
   "source": [
    "single_staff = cysh.Staff__c.get('a1L1a000003JsZWEA0')\n",
    "single_staff = pd.DataFrame(list(single_staff.items()))\n",
    "list(single_staff.loc[~single_staff[1].isnull()][0])"
   ]
  },
  {
   "cell_type": "code",
   "execution_count": 37,
   "metadata": {
    "scrolled": true
   },
   "outputs": [
    {
     "data": {
      "text/plain": [
       "['Active__c',\n",
       " 'Amount_of_Time__c',\n",
       " 'Archived__c',\n",
       " 'Average_Section_Grade__c',\n",
       " 'Count_Section_Grades__c',\n",
       " 'CreatedById',\n",
       " 'CreatedDate',\n",
       " 'Deactivated__c',\n",
       " 'Dosage_to_Date__c',\n",
       " 'Dosage_to_Date_hrs__c',\n",
       " 'Enrollment_Start_Date__c',\n",
       " 'Failing__c',\n",
       " 'Id',\n",
       " 'IsDeleted',\n",
       " 'Is_Section__c',\n",
       " 'LastModifiedById',\n",
       " 'LastModifiedDate',\n",
       " 'LastReferencedDate',\n",
       " 'LastViewedDate',\n",
       " 'Local_Student_ID__c',\n",
       " 'Location__c',\n",
       " 'Name',\n",
       " 'Reference_ID__c',\n",
       " 'School_Reference_Id__c',\n",
       " 'School_Year_Name__c',\n",
       " 'School__c',\n",
       " 'Section_Attendance_Flag__c',\n",
       " 'Section_Name__c',\n",
       " 'Section_Period__c',\n",
       " 'Section_RT__c',\n",
       " 'Section_ReportingPeriod_StartDate__c',\n",
       " 'Section__c',\n",
       " 'Section_time__c',\n",
       " 'Setup_Year_Name__c',\n",
       " 'Student_Entry_Date__c',\n",
       " 'Student_First_Name__c',\n",
       " 'Student_Grade__c',\n",
       " 'Student_Id__c',\n",
       " 'Student_Name__c',\n",
       " 'Student__c',\n",
       " 'Student_school_year__c',\n",
       " 'SystemModstamp',\n",
       " 'Total_Grade_Value__c',\n",
       " 'attributes']"
      ]
     },
     "execution_count": 37,
     "metadata": {},
     "output_type": "execute_result"
    }
   ],
   "source": [
    "single_student_section = cysh.Student_Section__c.get('a1T1a000001sEN2EAM')\n",
    "single_student_section = pd.DataFrame(list(single_student_section.items()))\n",
    "sorted(list(single_student_section.loc[~single_student_section[1].isnull()][0]))"
   ]
  },
  {
   "cell_type": "code",
   "execution_count": null,
   "metadata": {},
   "outputs": [],
   "source": [
    "single_section = cysh.Section__c.get('a1A1a000004QJ9kEAG')\n",
    "single_section = pd.DataFrame(list(single_section.items()))\n",
    "sorted(list(single_section.loc[~single_section[1].isnull()][0]))"
   ]
  },
  {
   "cell_type": "code",
   "execution_count": null,
   "metadata": {},
   "outputs": [],
   "source": [
    "# Fill in details on each section, enure no duplicates (one staff per section)\n",
    "section_df = get_cysh_df('Section__c', ['Id', 'Name', 'School__c', 'Program__c', 'In_After_School__c', 'Intervention_Primary_Staff__c'], rename_id=True)\n",
    "section_df.rename(columns={'Intervention_Primary_Staff__c':'Staff__c'}, inplace=True)\n",
    "program_df = get_cysh_df('Program__c', ['Id', 'Name'], rename_id=True, rename_name=True)\n",
    "staff_df = get_cysh_df('Staff__c', ['Id', 'Name', 'Role__c'], rename_id=True, rename_name=True)"
   ]
  },
  {
   "cell_type": "code",
   "execution_count": null,
   "metadata": {},
   "outputs": [],
   "source": [
    "# add program tpye to section\n",
    "df = section_df.merge(program_df, how='left', on='Program__c')\n",
    "# add staff 'Name' and 'Role__c' to staff_section\n",
    "df = df.merge(staff_df, how='left', on='Staff__c')\n",
    "# filter\n",
    "df = df.loc[~df['Program__c_Name'].isnull()]\n",
    "df = df.loc[df['Program__c_Name'].str.contains('Tutoring')\n",
    "            & (df['In_After_School__c']!='Extended Learning')]"
   ]
  },
  {
   "cell_type": "code",
   "execution_count": 19,
   "metadata": {},
   "outputs": [],
   "source": [
    "student_section_df = get_cysh_df('Student_Section__c', ['Id', 'Section__c', 'Student__c'], rename_id=True)\n",
    "ISR_df = get_cysh_df('Intervention_Session_Result__c', ['CreatedDate', 'Intervention_Session_Date__c',\n",
    "                                                        'Amount_of_Time__c', 'Primary_Skill__c',\n",
    "                                                        'Student_Section__c', 'Intervention_Session__c',\n",
    "                                                        'Section_Name__c', 'Program__c', 'Program_Name__c'])"
   ]
  },
  {
   "cell_type": "code",
   "execution_count": 35,
   "metadata": {},
   "outputs": [],
   "source": [
    "ISR_df = ISR_df.merge(student_section_df, how='left', on='Student_Section__c')\n",
    "ISR_df['student_program'] = ISR_df['Student__c'] + '_' + ISR_df['Program__c']\n",
    "ISR_df['Intervention_Session_Date__c'] = pd.to_datetime(ISR_df['Intervention_Session_Date__c'])\n",
    "ISR_df = ISR_df.loc[ISR_df['Intervention_Session_Date__c'] < '2017-12-11']\n",
    "ISR_df = ISR_df.join(ISR_df.groupby('student_program')['Amount_of_Time__c'].sum(), how='left', on='student_program', rsuffix='_YTD')"
   ]
  },
  {
   "cell_type": "code",
   "execution_count": 59,
   "metadata": {},
   "outputs": [],
   "source": [
    "tot_df = ISR_df.groupby(['Student__c', 'Program__c', 'Program_Name__c'])['Amount_of_Time__c'].sum().reset_index()"
   ]
  },
  {
   "cell_type": "code",
   "execution_count": 60,
   "metadata": {},
   "outputs": [],
   "source": [
    "tot_df.to_csv('privatedata/time_on_task_2017-12-11.csv', index=False)"
   ]
  }
 ],
 "metadata": {
  "kernelspec": {
   "display_name": "Python 3",
   "language": "python",
   "name": "python3"
  },
  "language_info": {
   "codemirror_mode": {
    "name": "ipython",
    "version": 3
   },
   "file_extension": ".py",
   "mimetype": "text/x-python",
   "name": "python",
   "nbconvert_exporter": "python",
   "pygments_lexer": "ipython3",
   "version": "3.6.4"
  }
 },
 "nbformat": 4,
 "nbformat_minor": 2
}
