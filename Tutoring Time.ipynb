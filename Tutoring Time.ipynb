{
 "cells": [
  {
   "cell_type": "code",
   "execution_count": null,
   "metadata": {},
   "outputs": [],
   "source": [
    "from simple_cysh import * # includes pandas as pd"
   ]
  },
  {
   "cell_type": "code",
   "execution_count": null,
   "metadata": {},
   "outputs": [],
   "source": [
    "# determine fields used within object\n",
    "single_tut_sess = cysh.Intervention_Session_Result__c.get('a0f1a00000CyUX5AAN')\n",
    "single_tut_sess = pd.DataFrame(list(single_tut_sess.items()))\n",
    "list(single_tut_sess.loc[~single_tut_sess[1].isnull()][0])"
   ]
  },
  {
   "cell_type": "code",
   "execution_count": null,
   "metadata": {},
   "outputs": [],
   "source": [
    "single_staff = cysh.Staff__c.get('a1L1a000003JsZWEA0')\n",
    "single_staff = pd.DataFrame(list(single_staff.items()))\n",
    "list(single_staff.loc[~single_staff[1].isnull()][0])"
   ]
  },
  {
   "cell_type": "code",
   "execution_count": null,
   "metadata": {},
   "outputs": [],
   "source": [
    "single_student_section = cysh.Student_Section__c.get('a1T1a000001sEN2EAM')\n",
    "single_student_section = pd.DataFrame(list(single_student_section.items()))\n",
    "sorted(list(single_student_section.loc[~single_student_section[1].isnull()][0]))"
   ]
  },
  {
   "cell_type": "code",
   "execution_count": null,
   "metadata": {},
   "outputs": [],
   "source": [
    "single_section = cysh.Section__c.get('a1A1a000004QJ9kEAG')\n",
    "single_section = pd.DataFrame(list(single_section.items()))\n",
    "sorted(list(single_section.loc[~single_section[1].isnull()][0]))"
   ]
  },
  {
   "cell_type": "code",
   "execution_count": null,
   "metadata": {},
   "outputs": [],
   "source": [
    "ISR_df = get_cysh_df('Intervention_Session_Result__c', ['CreatedDate', 'Intervention_Session_Date__c',\n",
    "                                                        'Amount_of_Time__c', 'Primary_Skill__c',\n",
    "                                                        'Student_Section__c', 'Intervention_Session__c'])"
   ]
  },
  {
   "cell_type": "code",
   "execution_count": null,
   "metadata": {},
   "outputs": [],
   "source": [
    "# Fill in details on each section, enure no duplicates (one staff per section)\n",
    "section_df = get_cysh_df('Section__c', ['Id', 'School__c', 'Program__c', 'In_After_School__c', 'Intervention_Primary_Staff__c'], rename_id=True)\n",
    "section_df.rename(columns={'Intervention_Primary_Staff__c':'Staff__c'}, inplace=True)\n",
    "program_df = get_cysh_df('Program__c', ['Id', 'Name'], rename_id=True, rename_name=True)\n",
    "staff_df = get_cysh_df('Staff__c', ['Id', 'Name', 'Role__c'], rename_id=True, rename_name=True)"
   ]
  },
  {
   "cell_type": "code",
   "execution_count": null,
   "metadata": {},
   "outputs": [],
   "source": [
    "# add program tpye to section\n",
    "section_df = section_df.merge(program_df, how='left', on='Program__c')\n",
    "# add staff 'Name' and 'Role__c' to staff_section\n",
    "section_df = section_df.merge(staff_df, how='left', on='Staff__c')"
   ]
  },
  {
   "cell_type": "code",
   "execution_count": null,
   "metadata": {},
   "outputs": [],
   "source": [
    "section_df"
   ]
  },
  {
   "cell_type": "code",
   "execution_count": 52,
   "metadata": {
    "scrolled": true
   },
   "outputs": [
    {
     "data": {
      "text/plain": [
       "array([nan, 'Corps Member', 'Senior Evaluation Manager',\n",
       "       'Senior Corps Team Leader', 'Impact Manager', 'Impact Director',\n",
       "       'Second Year Corps Member'], dtype=object)"
      ]
     },
     "execution_count": 52,
     "metadata": {},
     "output_type": "execute_result"
    }
   ],
   "source": [
    "section_df['Role__c'].unique()"
   ]
  }
 ],
 "metadata": {
  "kernelspec": {
   "display_name": "Python 3",
   "language": "python",
   "name": "python3"
  },
  "language_info": {
   "codemirror_mode": {
    "name": "ipython",
    "version": 3
   },
   "file_extension": ".py",
   "mimetype": "text/x-python",
   "name": "python",
   "nbconvert_exporter": "python",
   "pygments_lexer": "ipython3",
   "version": "3.6.4"
  }
 },
 "nbformat": 4,
 "nbformat_minor": 2
}
