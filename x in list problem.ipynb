{
 "cells": [
  {
   "cell_type": "code",
   "execution_count": null,
   "metadata": {},
   "outputs": [],
   "source": [
    "def x_in_list(num, alys_list):\n",
    "    list_min = alys_list[0]\n",
    "    list_max = alys_list[-1]\n",
    "    list_len = len(alys_list)\n",
    "    if num == list_min:\n",
    "        return 0\n",
    "    elif num == list_max:\n",
    "        return list_len-1\n",
    "    elif num < list_min | num > list_max:\n",
    "        return -1\n",
    "    \n",
    "    new_list = list(alys_list)\n",
    "    mid_index = int(len(new_list)/2)\n",
    "    obj_index = mid_index\n",
    "    \n",
    "    while len(new_list) > 1:\n",
    "        mid_num = new_list[mid_index]\n",
    "        if num == mid_num:\n",
    "            return obj_index\n",
    "        else:\n",
    "            if num > mid_num:\n",
    "                new_list = new_list[mid_index:]\n",
    "                mid_index = int(len(new_list)/2)\n",
    "                obj_index += mid_index\n",
    "            elif num < mid_num:\n",
    "                new_list = new_list[:mid_index]\n",
    "                mid_index = int(len(new_list)/2)\n",
    "                obj_index -= mid_index+1\n",
    "    return -1"
   ]
  },
  {
   "cell_type": "code",
   "execution_count": null,
   "metadata": {},
   "outputs": [],
   "source": [
    "# fails when list is even length and searching for value in bottom half\n",
    "x_in_list(10, [1,2,3,5,10,11,12])"
   ]
  }
 ],
 "metadata": {
  "kernelspec": {
   "display_name": "Python 3",
   "language": "python",
   "name": "python3"
  },
  "language_info": {
   "codemirror_mode": {
    "name": "ipython",
    "version": 3
   },
   "file_extension": ".py",
   "mimetype": "text/x-python",
   "name": "python",
   "nbconvert_exporter": "python",
   "pygments_lexer": "ipython3",
   "version": "3.6.4"
  }
 },
 "nbformat": 4,
 "nbformat_minor": 2
}
